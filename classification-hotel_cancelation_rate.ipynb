{
 "cells": [
  {
   "cell_type": "markdown",
   "id": "be9b865f",
   "metadata": {
    "tags": []
   },
   "source": [
    "# 0.0. Imports"
   ]
  },
  {
   "cell_type": "code",
   "execution_count": null,
   "id": "c3e45637",
   "metadata": {
    "ExecuteTime": {
     "end_time": "2023-03-26T19:34:10.738032Z",
     "start_time": "2023-03-26T19:34:10.731719Z"
    }
   },
   "outputs": [],
   "source": [
    "#Import Libraries\n",
    "import pickle\n",
    "import inflection\n",
    "\n",
    "import numpy as np\n",
    "import pandas as pd\n",
    "import seaborn as sn\n",
    "\n",
    "from ydata_profiling import ProfileReport\n",
    "\n",
    "from matplotlib import pyplot as plt\n",
    "\n",
    "from xgboost import XGBClassifier\n",
    "\n",
    "from sklearn import svm\n",
    "from sklearn import metrics as mt\n",
    "from sklearn import ensemble as en\n",
    "from sklearn import model_selection as ms\n",
    "from sklearn import preprocessing   as pp\n",
    "from sklearn import linear_model as lm\n",
    "from sklearn import ensemble as en"
   ]
  },
  {
   "cell_type": "markdown",
   "id": "1d4055de-c082-4603-ae71-fc25a50d3736",
   "metadata": {},
   "source": [
    "# 0.1. Functions"
   ]
  },
  {
   "cell_type": "code",
   "execution_count": null,
   "id": "29018728-1457-4ad2-a5ff-de0fa5ab4977",
   "metadata": {},
   "outputs": [],
   "source": [
    "#Rename dataframe columns\n",
    "def rename_cols(df):\n",
    "    cols_old = ['id', 'Classificacao_do_hotel', 'Meses_da_reserva_ate_o_check-in', 'Numero_de_pernoites_reservadas', \n",
    "                'Numero_de_hospedes', 'Regime_de_alimentacao', 'Nacionalidade', 'Forma_de_Reserva',\n",
    "                'Ja_se_hospedou_anterioremente', 'Tipo_do_quarto_reservado', 'Reserva_feita_por_agencia_de_turismo', \n",
    "                'Reserva_feita_por_empresa', 'Reserva_com_Estacionamento', 'Reserva_com_Observacoes', \n",
    "                'Reserva_Cancelada', 'latitude', 'longitude']\n",
    "    \n",
    "    snakecase = lambda x: inflection.underscore(x)\n",
    "    cols_new = list(map(snakecase, cols_old))\n",
    "    df.columns = cols_new\n",
    "    \n",
    "    return df\n",
    "\n",
    "def rename_cols_x(df):\n",
    "    cols_old = ['id', 'Classificacao_do_hotel', 'Meses_da_reserva_ate_o_check-in', 'Numero_de_pernoites_reservadas', \n",
    "                'Numero_de_hospedes', 'Regime_de_alimentacao', 'Nacionalidade', 'Forma_de_Reserva',\n",
    "                'Ja_se_hospedou_anterioremente', 'Tipo_do_quarto_reservado', 'Reserva_feita_por_agencia_de_turismo', \n",
    "                'Reserva_feita_por_empresa', 'Reserva_com_Estacionamento', 'Reserva_com_Observacoes', 'latitude', 'longitude']\n",
    "    \n",
    "    snakecase = lambda x: inflection.underscore(x)\n",
    "    cols_new = list(map(snakecase, cols_old))\n",
    "    df.columns = cols_new\n",
    "    \n",
    "    return df\n",
    "\n",
    "#Suiting data to algorithm application\n",
    "def feature_eng(df):\n",
    "    df['classificacao_do_hotel'] = df['classificacao_do_hotel'].apply(lambda x: x.replace(' estrelas', ''))\n",
    "    \n",
    "    #Suiting data to algorithm application\n",
    "    df['ja_se_hospedou_anterioremente'] = df['ja_se_hospedou_anterioremente'].apply(lambda x: x.replace('Sim', '1'))\n",
    "    df['ja_se_hospedou_anterioremente'] = df['ja_se_hospedou_anterioremente'].apply(lambda x: x.replace('Não', '0'))\n",
    "    \n",
    "    #Suiting data to algorithm application\n",
    "    df['reserva_feita_por_agencia_de_turismo'] = df['reserva_feita_por_agencia_de_turismo'].apply(lambda x: x.replace('Sim', '1'))\n",
    "    df['reserva_feita_por_agencia_de_turismo'] = df['reserva_feita_por_agencia_de_turismo'].apply(lambda x: x.replace('Não', '0'))\n",
    "    \n",
    "    #Suiting data to algorithm application\n",
    "    df['reserva_feita_por_empresa'] = df['reserva_feita_por_empresa'].apply(lambda x: x.replace('Sim', '1'))\n",
    "    df['reserva_feita_por_empresa'] = df['reserva_feita_por_empresa'].apply(lambda x: x.replace('Não', '0'))\n",
    "    \n",
    "    #Suiting data to algorithm application\n",
    "    df['reserva_com_estacionamento'] = df['reserva_com_estacionamento'].apply(lambda x: x.replace('Sim', '1'))\n",
    "    df['reserva_com_estacionamento'] = df['reserva_com_estacionamento'].apply(lambda x: x.replace('Não', '0'))\n",
    "    \n",
    "    #Adjusting data types\n",
    "    df['classificacao_do_hotel'] = df['classificacao_do_hotel'].astype('int64')\n",
    "    df['ja_se_hospedou_anterioremente'] = df['ja_se_hospedou_anterioremente'].astype('int64')\n",
    "    df['reserva_feita_por_agencia_de_turismo'] = df['reserva_feita_por_agencia_de_turismo'].astype('int64')\n",
    "    df['reserva_feita_por_empresa'] = df['reserva_feita_por_empresa'].astype('int64')\n",
    "    df['reserva_com_estacionamento'] = df['reserva_com_estacionamento'].astype('int64')\n",
    "    \n",
    "    return df\n",
    "\n",
    "#Optimizing values for algorithm application\n",
    "def feature_opt(df):\n",
    "    #Make a frequency dictionary of each category\n",
    "    freq_dict = df['tipo_do_quarto_reservado'].value_counts(normalize=True).to_dict()\n",
    "    \n",
    "    #Apply encoder to dataframe\n",
    "    df['tipo_do_quarto_reservado_encoded'] = df['tipo_do_quarto_reservado'].map(freq_dict)\n",
    "    \n",
    "    #Make a frequency dictionary of each category\n",
    "    freq_dict = df['nacionalidade'].value_counts(normalize=True).to_dict()\n",
    "    \n",
    "    #Apply encoder to dataframe\n",
    "    df['nacionalidade'] = df['nacionalidade'].map(freq_dict)\n",
    "    \n",
    "    #Dummy variables\n",
    "    cols_dummy = ['regime_de_alimentacao', 'forma_de_reserva', 'reserva_com_observacoes']  \n",
    "    df_dummy = pd.get_dummies(df[cols_dummy])  \n",
    "    df = pd.concat([df, df_dummy], axis=1)\n",
    "    \n",
    "    #Adjusting values for algorithm application\n",
    "    df['latitude'] = df['latitude'].str.replace('.', '')\n",
    "    df['longitude'] = df['longitude'].str.replace('.', '')\n",
    "    df['latitude'] = df['latitude'].astype('float64')\n",
    "    df['longitude'] = df['longitude'].astype('float64')\n",
    "    \n",
    "    #Apply radians to data for optimize\n",
    "    df['latitude'] = df['latitude'].apply(lambda x: np.radians(x/1000000))\n",
    "    df['longitude'] = df['longitude'].apply(lambda x: np.radians(x/1000000))\n",
    "    \n",
    "    return df\n",
    "\n",
    "def feature_opt_x(df):\n",
    "    #Make a frequency dictionary of each category\n",
    "    freq_dict = df['tipo_do_quarto_reservado'].value_counts(normalize=True).to_dict()\n",
    "    \n",
    "    #Apply encoder to dataframe\n",
    "    df['tipo_do_quarto_reservado_encoded'] = df['tipo_do_quarto_reservado'].map(freq_dict)\n",
    "    \n",
    "    #Make a frequency dictionary of each category\n",
    "    freq_dict = df['nacionalidade'].value_counts(normalize=True).to_dict()\n",
    "    \n",
    "    #Apply encoder to dataframe\n",
    "    df['nacionalidade'] = df['nacionalidade'].map(freq_dict)\n",
    "    \n",
    "    #Dummy variables\n",
    "    cols_dummy = ['regime_de_alimentacao', 'forma_de_reserva', 'reserva_com_observacoes']  \n",
    "    df_dummy = pd.get_dummies(df[cols_dummy])  \n",
    "    df = pd.concat([df, df_dummy], axis=1)\n",
    "    \n",
    "    #Adjusting values for algorithm application\n",
    "    df['latitude'] = df['latitude'].str.replace('.', '')\n",
    "    df['longitude'] = df['longitude'].str.replace('.', '')\n",
    "    df['latitude'] = df['latitude'].astype('float64')\n",
    "    df['longitude'] = df['longitude'].astype('float64')\n",
    "    \n",
    "    #Apply radians to data for optimize\n",
    "    df['latitude'] = df['latitude'].fillna(40463667)\n",
    "    df['longitude'] = df['longitude'].fillna(-374922)\n",
    "    df['latitude'] = df['latitude'].apply(lambda x: np.radians(x/1000000))\n",
    "    df['longitude'] = df['longitude'].apply(lambda x: np.radians(x/1000000))\n",
    "    \n",
    "    return df\n",
    "\n",
    "\n",
    "#Adjusting dataframe types\n",
    "def types_adjust(df):\n",
    "    df['numero_de_hospedes'] = df['numero_de_hospedes'].astype('int64')\n",
    "    df['classificacao_do_hotel'] = df['classificacao_do_hotel'].astype('int64')\n",
    "    df['ja_se_hospedou_anterioremente'] = df['ja_se_hospedou_anterioremente'].astype('int64')\n",
    "    df['reserva_feita_por_agencia_de_turismo'] = df['reserva_feita_por_agencia_de_turismo'].astype('int64')\n",
    "    df['reserva_feita_por_empresa'] = df['reserva_feita_por_empresa'].astype('int64')\n",
    "    df['reserva_com_estacionamento'] = df['reserva_com_estacionamento'].astype('int64')\n",
    "    \n",
    "    return df"
   ]
  },
  {
   "cell_type": "markdown",
   "id": "40f1f5cd",
   "metadata": {
    "ExecuteTime": {
     "end_time": "2023-03-25T01:45:10.964211Z",
     "start_time": "2023-03-25T01:45:10.431585Z"
    },
    "heading_collapsed": true
   },
   "source": [
    "# 1.0. Data Description"
   ]
  },
  {
   "cell_type": "markdown",
   "id": "a44e7938",
   "metadata": {
    "heading_collapsed": true,
    "hidden": true
   },
   "source": [
    "## 1.1. Loading Data"
   ]
  },
  {
   "cell_type": "code",
   "execution_count": null,
   "id": "9d3310b9",
   "metadata": {
    "ExecuteTime": {
     "end_time": "2023-03-26T19:34:11.280067Z",
     "start_time": "2023-03-26T19:34:10.743042Z"
    },
    "hidden": true
   },
   "outputs": [],
   "source": [
    "#Import train data and country data (for merge)\n",
    "df_train = pd.read_csv('train.csv')\n",
    "df_country = pd.read_csv('country_base.csv', delimiter=';')\n",
    "\n",
    "#Merge train and country data\n",
    "df1 = pd.merge(df_train, df_country, on='Nacionalidade', how='left')\n",
    "\n",
    "#Drop dataframe column\n",
    "df1 = df1.drop('country', axis=1)"
   ]
  },
  {
   "cell_type": "code",
   "execution_count": null,
   "id": "da092a78-a4b6-421a-9cb9-c05f667ef011",
   "metadata": {},
   "outputs": [],
   "source": [
    "#Import test data and country data (for merge)\n",
    "df_test = pd.read_csv('test.csv')\n",
    "df_country = pd.read_csv('country_base.csv', delimiter=';')\n",
    "\n",
    "#Merge train and country data\n",
    "df1_x = pd.merge(df_test, df_country, on='Nacionalidade', how='left')\n",
    "\n",
    "#Drop dataframe column\n",
    "df1_x = df1_x.drop('country', axis=1)"
   ]
  },
  {
   "cell_type": "markdown",
   "id": "fc0a7f9f",
   "metadata": {
    "heading_collapsed": true,
    "hidden": true
   },
   "source": [
    "## 1.2. Rename Columns"
   ]
  },
  {
   "cell_type": "code",
   "execution_count": null,
   "id": "6dddcb84-a960-4ef8-b83a-2a1d2f890eab",
   "metadata": {},
   "outputs": [],
   "source": [
    "#Applying Rename Columns Function\n",
    "df1 = rename_cols(df1)\n",
    "df1_x = rename_cols_x(df1_x)"
   ]
  },
  {
   "cell_type": "markdown",
   "id": "d4e724b0",
   "metadata": {
    "heading_collapsed": true,
    "hidden": true,
    "tags": []
   },
   "source": [
    "## 1.3. Data Dimensions"
   ]
  },
  {
   "cell_type": "code",
   "execution_count": null,
   "id": "8b135b2f",
   "metadata": {
    "ExecuteTime": {
     "end_time": "2023-03-26T19:34:11.625493Z",
     "start_time": "2023-03-26T19:34:11.464153Z"
    },
    "hidden": true
   },
   "outputs": [],
   "source": [
    "#Counting number of rows and columns of the dataframe\n",
    "print('Train Number of rows: {}'.format(df1.shape[0]))\n",
    "print('Train Number of cols: {}'.format(df1.shape[1]))\n",
    "print('\\n')\n",
    "print('Test Number of rows: {}'.format(df1_x.shape[0]))\n",
    "print('Test Number of cols: {}'.format(df1_x.shape[1]))"
   ]
  },
  {
   "cell_type": "markdown",
   "id": "292ec09b",
   "metadata": {
    "heading_collapsed": true,
    "hidden": true
   },
   "source": [
    "## 1.4. Check NA"
   ]
  },
  {
   "cell_type": "code",
   "execution_count": null,
   "id": "2cf7ddae",
   "metadata": {
    "ExecuteTime": {
     "end_time": "2023-03-26T19:34:11.860864Z",
     "start_time": "2023-03-26T19:34:11.629492Z"
    },
    "hidden": true
   },
   "outputs": [],
   "source": [
    "#Check of NA's values os de dataframe\n",
    "df1.isna().sum()"
   ]
  },
  {
   "cell_type": "code",
   "execution_count": null,
   "id": "bc31d1c0-1a02-4e93-8978-fd9e54dfd1fe",
   "metadata": {},
   "outputs": [],
   "source": [
    "df1_x.isna().sum()"
   ]
  },
  {
   "cell_type": "markdown",
   "id": "9d4a1ffc",
   "metadata": {
    "hidden": true
   },
   "source": [
    "### 1.4.1. Drop / Replace NA's"
   ]
  },
  {
   "cell_type": "code",
   "execution_count": null,
   "id": "e84b84df",
   "metadata": {
    "ExecuteTime": {
     "end_time": "2023-03-26T19:34:12.038246Z",
     "start_time": "2023-03-26T19:34:11.865022Z"
    },
    "hidden": true
   },
   "outputs": [],
   "source": [
    "#Drop NA's from train dataframe\n",
    "df1 = df1.dropna()\n",
    "\n",
    "#Replace NA's from test dataframe\n",
    "df1_x['numero_de_hospedes'] = df1_x['numero_de_hospedes'].fillna(2)\n",
    "df1_x['nacionalidade'] = df1_x['nacionalidade'].fillna('Spain')\n",
    "df1_x['latitude'] = df1_x['latitude'].fillna(40463667)\n",
    "df1_x['longitude'] = df1_x['longitude'].fillna(-374922)"
   ]
  },
  {
   "cell_type": "markdown",
   "id": "4682fcd5",
   "metadata": {
    "heading_collapsed": true,
    "hidden": true
   },
   "source": [
    "## 1.5. Data Dtypes"
   ]
  },
  {
   "cell_type": "code",
   "execution_count": null,
   "id": "abdcd99b",
   "metadata": {
    "ExecuteTime": {
     "end_time": "2023-03-26T19:34:12.175001Z",
     "start_time": "2023-03-26T19:34:12.051111Z"
    },
    "hidden": true
   },
   "outputs": [],
   "source": [
    "#Checking train data dtypes\n",
    "df1.dtypes"
   ]
  },
  {
   "cell_type": "code",
   "execution_count": null,
   "id": "b195d9c8-8e12-48d3-9157-e961b1365499",
   "metadata": {},
   "outputs": [],
   "source": [
    "#Checking test data dtypes\n",
    "df1_x.dtypes"
   ]
  },
  {
   "cell_type": "markdown",
   "id": "9729dd5a",
   "metadata": {
    "heading_collapsed": true,
    "hidden": true
   },
   "source": [
    "## 1.6. Data Balancing"
   ]
  },
  {
   "cell_type": "code",
   "execution_count": null,
   "id": "8f61ac3b",
   "metadata": {
    "ExecuteTime": {
     "end_time": "2023-03-26T19:34:12.369195Z",
     "start_time": "2023-03-26T19:34:12.259182Z"
    },
    "hidden": true
   },
   "outputs": [],
   "source": [
    "#Checking test data balance\n",
    "df1['reserva_cancelada'].value_counts(normalize=True)"
   ]
  },
  {
   "cell_type": "markdown",
   "id": "a4e60ff0",
   "metadata": {
    "heading_collapsed": true,
    "hidden": true
   },
   "source": [
    "## 1.7. Pandas Profiling"
   ]
  },
  {
   "cell_type": "code",
   "execution_count": null,
   "id": "1d1e4c82",
   "metadata": {
    "ExecuteTime": {
     "end_time": "2023-03-26T19:34:12.554371Z",
     "start_time": "2023-03-26T19:34:12.372668Z"
    },
    "hidden": true
   },
   "outputs": [],
   "source": [
    "#Report for External Data Analysis\n",
    "prof = ProfileReport(df1)\n",
    "prof.to_file(output_file='output.html')\n",
    "# regime_de_alimentacao -> desbalanceado\n",
    "# nacionalidade -> desbalanceado\n",
    "# forma_de_reserva -> desbalanceado\n",
    "# ja_se_hospedou_anterioremente -> desbalanceado\n",
    "# tipo_do_quarto_reservado -> desbalanceado\n",
    "# reserva_feita_por_agencia_de_turismo -> desbalanceado\n",
    "# reserva_com_estacionamento -> desbalanceado"
   ]
  },
  {
   "cell_type": "markdown",
   "id": "b0a6e176",
   "metadata": {
    "heading_collapsed": true
   },
   "source": [
    "# 2.0. Feature Engineering"
   ]
  },
  {
   "cell_type": "code",
   "execution_count": null,
   "id": "3ec87883",
   "metadata": {
    "ExecuteTime": {
     "end_time": "2023-03-26T19:34:13.543976Z",
     "start_time": "2023-03-26T19:34:13.456205Z"
    },
    "hidden": true
   },
   "outputs": [],
   "source": [
    "#Dataframe copy for data adjustment\n",
    "df2 = df1.copy()\n",
    "df2_x = df1_x.copy()"
   ]
  },
  {
   "cell_type": "code",
   "execution_count": null,
   "id": "592ac569",
   "metadata": {
    "ExecuteTime": {
     "end_time": "2023-03-26T19:34:13.936695Z",
     "start_time": "2023-03-26T19:34:13.844345Z"
    },
    "hidden": true
   },
   "outputs": [],
   "source": [
    "#Applying Feature Engineering Function\n",
    "df2 = feature_eng(df2)\n",
    "df2_x = feature_eng(df2_x)"
   ]
  },
  {
   "cell_type": "code",
   "execution_count": null,
   "id": "6bfceb26",
   "metadata": {
    "ExecuteTime": {
     "end_time": "2023-03-26T19:34:14.414567Z",
     "start_time": "2023-03-26T19:34:14.326758Z"
    },
    "hidden": true
   },
   "outputs": [],
   "source": [
    "#Checking data adjustments\n",
    "df2"
   ]
  },
  {
   "cell_type": "code",
   "execution_count": null,
   "id": "b9ad0507",
   "metadata": {
    "ExecuteTime": {
     "end_time": "2023-03-26T19:34:14.503947Z",
     "start_time": "2023-03-26T19:34:14.418643Z"
    },
    "hidden": true
   },
   "outputs": [],
   "source": [
    "#Checking data types\n",
    "df2.dtypes"
   ]
  },
  {
   "cell_type": "code",
   "execution_count": null,
   "id": "0d10fbea-f493-4b30-9a22-8be852f4bb48",
   "metadata": {},
   "outputs": [],
   "source": [
    "df2_x"
   ]
  },
  {
   "cell_type": "code",
   "execution_count": null,
   "id": "e17b923e-60f7-4d1f-ae1e-53f56a56be73",
   "metadata": {},
   "outputs": [],
   "source": [
    "df2_x.dtypes"
   ]
  },
  {
   "cell_type": "markdown",
   "id": "66cc9a58",
   "metadata": {
    "jp-MarkdownHeadingCollapsed": true,
    "tags": []
   },
   "source": [
    "# 3.0. Data Filtering"
   ]
  },
  {
   "cell_type": "code",
   "execution_count": null,
   "id": "47c68e0f",
   "metadata": {
    "ExecuteTime": {
     "end_time": "2023-03-26T19:34:14.844206Z",
     "start_time": "2023-03-26T19:34:14.762077Z"
    }
   },
   "outputs": [],
   "source": [
    "#This section was not used for this project"
   ]
  },
  {
   "cell_type": "markdown",
   "id": "55684f1c",
   "metadata": {},
   "source": [
    "# 4.0. Data Preparation "
   ]
  },
  {
   "cell_type": "code",
   "execution_count": null,
   "id": "3ad9776c",
   "metadata": {
    "ExecuteTime": {
     "end_time": "2023-03-26T19:34:15.013741Z",
     "start_time": "2023-03-26T19:34:14.920129Z"
    }
   },
   "outputs": [],
   "source": [
    "#Dataframe copy for data preparation\n",
    "df3 = df2.copy()\n",
    "df3_x = df2_x.copy()"
   ]
  },
  {
   "cell_type": "code",
   "execution_count": null,
   "id": "703f3c94",
   "metadata": {
    "ExecuteTime": {
     "end_time": "2023-03-26T19:34:15.318845Z",
     "start_time": "2023-03-26T19:34:15.206818Z"
    }
   },
   "outputs": [],
   "source": [
    "#Applying Feature Optimizer Function\n",
    "df3 = feature_opt(df3)\n",
    "\n",
    "df3_x = feature_opt_x(df3_x)"
   ]
  },
  {
   "cell_type": "code",
   "execution_count": null,
   "id": "964aff87-cc5e-487d-adb2-73e0249d3af6",
   "metadata": {},
   "outputs": [],
   "source": [
    "#Checking train data types\n",
    "df3.dtypes"
   ]
  },
  {
   "cell_type": "code",
   "execution_count": null,
   "id": "52433c25-a0ce-46e9-a899-a8daf6c5ab7a",
   "metadata": {},
   "outputs": [],
   "source": [
    "#Checking test data types\n",
    "df3_x.dtypes"
   ]
  },
  {
   "cell_type": "code",
   "execution_count": null,
   "id": "2ad07dc1",
   "metadata": {
    "ExecuteTime": {
     "end_time": "2023-03-26T19:34:15.750678Z",
     "start_time": "2023-03-26T19:34:15.726702Z"
    }
   },
   "outputs": [],
   "source": [
    "#Checking train data optimized\n",
    "df3[['tipo_do_quarto_reservado', 'tipo_do_quarto_reservado_encoded', 'nacionalidade', 'latitude', 'longitude']]"
   ]
  },
  {
   "cell_type": "code",
   "execution_count": null,
   "id": "91b97947-5c76-4f8e-9d21-c98084cc1f59",
   "metadata": {},
   "outputs": [],
   "source": [
    "#Checking test data optimized\n",
    "df3_x[['tipo_do_quarto_reservado', 'tipo_do_quarto_reservado_encoded', 'nacionalidade', 'latitude', 'longitude']]"
   ]
  },
  {
   "cell_type": "markdown",
   "id": "c8e990a1",
   "metadata": {},
   "source": [
    "# 5.0. Feature Selection "
   ]
  },
  {
   "cell_type": "code",
   "execution_count": null,
   "id": "41d5f490",
   "metadata": {
    "ExecuteTime": {
     "end_time": "2023-03-26T19:34:15.814491Z",
     "start_time": "2023-03-26T19:34:15.754941Z"
    }
   },
   "outputs": [],
   "source": [
    "#Dataframe copy for feature selection\n",
    "df4 = df3.copy()\n",
    "df4_x = df3_x.copy()"
   ]
  },
  {
   "cell_type": "code",
   "execution_count": null,
   "id": "9a8ba1ba-d68a-4569-8fab-0a6a69429fa1",
   "metadata": {},
   "outputs": [],
   "source": [
    "#Applying data types adjustment functions\n",
    "df4 = types_adjust(df4)\n",
    "df4_x = types_adjust(df4_x)"
   ]
  },
  {
   "cell_type": "code",
   "execution_count": null,
   "id": "4c20ef5c-79f2-4655-b796-c7de25862b8e",
   "metadata": {},
   "outputs": [],
   "source": [
    "#Checking train data\n",
    "df4.dtypes"
   ]
  },
  {
   "cell_type": "code",
   "execution_count": null,
   "id": "d50e4978-5f23-4e19-adb7-a5870ec09ca2",
   "metadata": {},
   "outputs": [],
   "source": [
    "#Checking test data\n",
    "df4_x.dtypes"
   ]
  },
  {
   "cell_type": "code",
   "execution_count": null,
   "id": "b7d3b67a",
   "metadata": {
    "ExecuteTime": {
     "end_time": "2023-03-26T19:34:16.025014Z",
     "start_time": "2023-03-26T19:34:15.920602Z"
    },
    "tags": []
   },
   "outputs": [],
   "source": [
    "#Drop columns from dataframe\n",
    "cols_drop =['regime_de_alimentacao', 'forma_de_reserva', 'reserva_com_observacoes', 'tipo_do_quarto_reservado']\n",
    "df5 = df4.drop(cols_drop, axis=1)\n",
    "df5_x = df4_x.drop(cols_drop, axis=1)"
   ]
  },
  {
   "cell_type": "code",
   "execution_count": null,
   "id": "b313558f-9c25-42ef-90b0-4fa8e6085c38",
   "metadata": {},
   "outputs": [],
   "source": [
    "#Checking train data types for Machine Learning Application\n",
    "df5.dtypes"
   ]
  },
  {
   "cell_type": "code",
   "execution_count": null,
   "id": "250a15d2-9999-47cd-ac8a-f2bf8b3e7d73",
   "metadata": {},
   "outputs": [],
   "source": [
    "#Checking test data types for Machine Learning Application\n",
    "df5_x.dtypes"
   ]
  },
  {
   "cell_type": "code",
   "execution_count": null,
   "id": "9bb85855",
   "metadata": {
    "ExecuteTime": {
     "end_time": "2023-03-26T19:34:16.290880Z",
     "start_time": "2023-03-26T19:34:16.027428Z"
    }
   },
   "outputs": [],
   "source": [
    "#Split train dataset into features and target\n",
    "#X = df5.drop(['id', 'reserva_cancelada'], axis=1)\n",
    "X = df5.drop(['reserva_cancelada'], axis=1)\n",
    "y = df5['reserva_cancelada']"
   ]
  },
  {
   "cell_type": "code",
   "execution_count": null,
   "id": "a2f86b46",
   "metadata": {
    "ExecuteTime": {
     "end_time": "2023-03-26T19:34:16.382668Z",
     "start_time": "2023-03-26T19:34:16.293365Z"
    }
   },
   "outputs": [],
   "source": [
    "#Split train dataset into train and test\n",
    "X_train, X_val, y_train, y_val = ms.train_test_split(X, y, test_size=0.2)"
   ]
  },
  {
   "cell_type": "markdown",
   "id": "47cadf95",
   "metadata": {},
   "source": [
    "# 6.0. Machine Learning Model"
   ]
  },
  {
   "cell_type": "markdown",
   "id": "521815db",
   "metadata": {},
   "source": [
    "## 6.1. XGBoost"
   ]
  },
  {
   "cell_type": "code",
   "execution_count": null,
   "id": "27aa76ae",
   "metadata": {
    "ExecuteTime": {
     "end_time": "2023-03-26T19:55:33.048966Z",
     "start_time": "2023-03-26T19:48:31.394760Z"
    }
   },
   "outputs": [],
   "source": [
    "#Model Definition\n",
    "xgb_model = XGBClassifier(n_estimators=1000, max_depth=20, min_child_weight=1)\n",
    "\n",
    "#Model Training\n",
    "xgb_model.fit(X_train, y_train.values.ravel())\n",
    "\n",
    "#Model Prediction\n",
    "yhat_xgb = xgb_model.predict(X_val)"
   ]
  },
  {
   "cell_type": "code",
   "execution_count": null,
   "id": "cfeee750",
   "metadata": {
    "ExecuteTime": {
     "end_time": "2023-03-26T19:55:33.147255Z",
     "start_time": "2023-03-26T19:55:33.052031Z"
    }
   },
   "outputs": [],
   "source": [
    "#Export the model pkl for test data application\n",
    "#pickle.dump(xgb_model, open('xgb_model.pkl', 'wb' ))"
   ]
  },
  {
   "cell_type": "markdown",
   "id": "1c0e6c6c",
   "metadata": {},
   "source": [
    "### 6.1.1. Performance"
   ]
  },
  {
   "cell_type": "code",
   "execution_count": null,
   "id": "c1778da7",
   "metadata": {
    "ExecuteTime": {
     "end_time": "2023-03-26T19:55:33.364412Z",
     "start_time": "2023-03-26T19:55:33.151009Z"
    }
   },
   "outputs": [],
   "source": [
    "#Show metrics of performance\n",
    "precision = mt.precision_score(y_val, yhat_xgb)\n",
    "recall = mt.recall_score(y_val, yhat_xgb)\n",
    "f1_score = mt.f1_score(y_val, yhat_xgb, average='macro')"
   ]
  },
  {
   "cell_type": "code",
   "execution_count": null,
   "id": "cc3566ef",
   "metadata": {
    "ExecuteTime": {
     "end_time": "2023-03-26T19:55:33.461488Z",
     "start_time": "2023-03-26T19:55:33.370661Z"
    }
   },
   "outputs": [],
   "source": [
    "print('Precision: {:.5f}'.format(precision))\n",
    "print('Recall: {:.5f}'.format(recall))\n",
    "print('F1 Score: {:.5f}'.format(f1_score))"
   ]
  },
  {
   "cell_type": "markdown",
   "id": "1c9f704d",
   "metadata": {},
   "source": [
    "## 6.2. Gradient Boosting"
   ]
  },
  {
   "cell_type": "code",
   "execution_count": null,
   "id": "5596ff9c",
   "metadata": {
    "ExecuteTime": {
     "end_time": "2023-03-26T19:40:47.150149Z",
     "start_time": "2023-03-26T19:36:05.230416Z"
    }
   },
   "outputs": [],
   "source": [
    "#Model Definition\n",
    "gdr_model = en.GradientBoostingClassifier(n_estimators=500, random_state=42, max_depth=15)\n",
    "\n",
    "#Model Training\n",
    "gdr_model.fit(X_train, y_train)\n",
    "\n",
    "#Model Prediction\n",
    "yhat_gb = gdr_model.predict(X_val)"
   ]
  },
  {
   "cell_type": "code",
   "execution_count": null,
   "id": "2f913f19",
   "metadata": {
    "ExecuteTime": {
     "end_time": "2023-03-26T19:40:47.404075Z",
     "start_time": "2023-03-26T19:40:47.154516Z"
    }
   },
   "outputs": [],
   "source": [
    "#Export the model pkl for test data application\n",
    "#pickle.dump(gdr_model, open('gdr_model.pkl', 'wb' ))"
   ]
  },
  {
   "cell_type": "markdown",
   "id": "1d2b55b0",
   "metadata": {},
   "source": [
    "### 6.2.1. Performance"
   ]
  },
  {
   "cell_type": "code",
   "execution_count": null,
   "id": "f944d3f7",
   "metadata": {
    "ExecuteTime": {
     "end_time": "2023-03-26T19:40:47.454725Z",
     "start_time": "2023-03-26T19:40:47.407358Z"
    }
   },
   "outputs": [],
   "source": [
    "#Show metrics of performance\n",
    "precision = mt.precision_score(y_val, yhat_gb)\n",
    "recall = mt.recall_score(y_val, yhat_gb)\n",
    "f1_score = mt.f1_score(y_val, yhat_gb, average='macro')"
   ]
  },
  {
   "cell_type": "code",
   "execution_count": null,
   "id": "b16961ee",
   "metadata": {
    "ExecuteTime": {
     "end_time": "2023-03-26T19:40:47.538833Z",
     "start_time": "2023-03-26T19:40:47.460848Z"
    }
   },
   "outputs": [],
   "source": [
    "print('Precision: {:.5f}'.format(precision))\n",
    "print('Recall: {:.5f}'.format(recall))\n",
    "print('F1 Score: {:.5f}'.format(f1_score))"
   ]
  },
  {
   "cell_type": "markdown",
   "id": "19ac4180",
   "metadata": {},
   "source": [
    "## 6.3. Random Forest"
   ]
  },
  {
   "cell_type": "code",
   "execution_count": null,
   "id": "fe0e74b2",
   "metadata": {
    "ExecuteTime": {
     "end_time": "2023-03-26T19:56:12.321257Z",
     "start_time": "2023-03-26T19:55:33.465422Z"
    }
   },
   "outputs": [],
   "source": [
    "#Model Definition\n",
    "rf_model = en.RandomForestClassifier(n_estimators=1000,\n",
    "                                     criterion='gini', \n",
    "                                     random_state=42, \n",
    "                                     n_jobs=-1, \n",
    "                                     max_depth=25)\n",
    "\n",
    "#Model Training\n",
    "rf_model.fit(X_train, y_train)\n",
    "\n",
    "#Model Prediction\n",
    "yhat_rf = rf_model.predict(X_val)"
   ]
  },
  {
   "cell_type": "code",
   "execution_count": null,
   "id": "bbebd841",
   "metadata": {
    "ExecuteTime": {
     "end_time": "2023-03-26T19:56:21.872444Z",
     "start_time": "2023-03-26T19:56:12.324342Z"
    }
   },
   "outputs": [],
   "source": [
    "#Export the model pkl for test data application\n",
    "#pickle.dump(rf_model, open('rf_model.pkl', 'wb' ))"
   ]
  },
  {
   "cell_type": "markdown",
   "id": "30a62536",
   "metadata": {},
   "source": [
    "### 6.3.1. Performance"
   ]
  },
  {
   "cell_type": "code",
   "execution_count": null,
   "id": "cead0a0e",
   "metadata": {
    "ExecuteTime": {
     "end_time": "2023-03-26T19:56:21.910333Z",
     "start_time": "2023-03-26T19:56:21.875098Z"
    }
   },
   "outputs": [],
   "source": [
    "#Show metrics of performance\n",
    "precision = mt.precision_score(y_val, yhat_rf)\n",
    "recall = mt.recall_score(y_val, yhat_rf)\n",
    "f1_score = mt.f1_score(y_val, yhat_rf, average='macro')"
   ]
  },
  {
   "cell_type": "code",
   "execution_count": null,
   "id": "1e1415d0",
   "metadata": {
    "ExecuteTime": {
     "end_time": "2023-03-26T19:56:22.612637Z",
     "start_time": "2023-03-26T19:56:21.913743Z"
    }
   },
   "outputs": [],
   "source": [
    "print('Precision: {:.5f}'.format(precision))\n",
    "print('Recall: {:.5f}'.format(recall))\n",
    "print('F1 Score: {:.5f}'.format(f1_score))"
   ]
  },
  {
   "cell_type": "markdown",
   "id": "79576f2b",
   "metadata": {
    "ExecuteTime": {
     "end_time": "2023-03-25T15:27:20.978363Z",
     "start_time": "2023-03-25T15:27:20.975764Z"
    }
   },
   "source": [
    "# 7.0. Ensemble"
   ]
  },
  {
   "cell_type": "code",
   "execution_count": null,
   "id": "97ed0e7e",
   "metadata": {
    "ExecuteTime": {
     "end_time": "2023-03-26T19:56:23.271176Z",
     "start_time": "2023-03-26T19:56:22.617835Z"
    }
   },
   "outputs": [],
   "source": [
    "#Merge data to compare\n",
    "ensemble = pd.DataFrame([yhat_xgb, yhat_gb, yhat_rf]).T\n",
    "ensemble.columns = ['yhat_xgb', 'yhat_gb', 'yhat_rf']\n",
    "moda = ensemble.mode(axis=1)[0]\n",
    "ensemble['pred'] = moda"
   ]
  },
  {
   "cell_type": "markdown",
   "id": "d6f32f40",
   "metadata": {},
   "source": [
    "# 8.0. General Performance"
   ]
  },
  {
   "cell_type": "code",
   "execution_count": null,
   "id": "fd4872b4",
   "metadata": {
    "ExecuteTime": {
     "end_time": "2023-03-26T19:56:27.597946Z",
     "start_time": "2023-03-26T19:56:27.592826Z"
    }
   },
   "outputs": [],
   "source": [
    "#Collect values for test performance\n",
    "yhat_en = ensemble['pred']"
   ]
  },
  {
   "cell_type": "code",
   "execution_count": null,
   "id": "3af89cfb",
   "metadata": {
    "ExecuteTime": {
     "end_time": "2023-03-26T19:56:27.794406Z",
     "start_time": "2023-03-26T19:56:27.601677Z"
    }
   },
   "outputs": [],
   "source": [
    "#Show metrics of performance\n",
    "precision = mt.precision_score(y_val, yhat_en)\n",
    "recall = mt.recall_score(y_val, yhat_en)\n",
    "f1_score = mt.f1_score(y_val, yhat_en, average='macro')"
   ]
  },
  {
   "cell_type": "code",
   "execution_count": null,
   "id": "e3d13f86",
   "metadata": {
    "ExecuteTime": {
     "end_time": "2023-03-26T19:56:27.925351Z",
     "start_time": "2023-03-26T19:56:27.796761Z"
    }
   },
   "outputs": [],
   "source": [
    "print('Precision: {:.5f}'.format(precision))\n",
    "print('Recall: {:.5f}'.format(recall))\n",
    "print('F1 Score: {:.5f}'.format(f1_score))"
   ]
  },
  {
   "cell_type": "markdown",
   "id": "2725a6bc-b1c1-4068-a2eb-4b5f5744dcc3",
   "metadata": {},
   "source": [
    "# 9.0. Model Application to Test Data"
   ]
  },
  {
   "cell_type": "code",
   "execution_count": null,
   "id": "217efbf0-6601-4cc0-8736-c9255c318cc1",
   "metadata": {},
   "outputs": [],
   "source": [
    "#XGBoost application to test data\n",
    "yhat_xbg_x = xgb_model.predict(df5_x)\n",
    "\n",
    "#Gradient Boosting application to test data\n",
    "yhat_gb_x = gdr_model.predict(df5_x)\n",
    "\n",
    "#Random Forest application to test data\n",
    "yhat_rf_x = rf_model.predict(df5_x)"
   ]
  },
  {
   "cell_type": "markdown",
   "id": "ecd9118f-4038-49f9-9782-2f74c15acb20",
   "metadata": {},
   "source": [
    "# 10.0. Export CSV"
   ]
  },
  {
   "cell_type": "code",
   "execution_count": null,
   "id": "a4defb65-f65d-4cc5-a4f4-fdfc3ef13abf",
   "metadata": {},
   "outputs": [],
   "source": [
    "#Merge data to compare\n",
    "ensemble = pd.DataFrame([yhat_xbg_x, yhat_gb_x, yhat_rf_x]).T\n",
    "ensemble.columns = ['yhat_xgb', 'yhat_gb', 'yhat_rf']\n",
    "moda_x = ensemble.mode(axis=1)[0]\n",
    "ensemble['pred'] = moda_x"
   ]
  },
  {
   "cell_type": "code",
   "execution_count": null,
   "id": "15886b07-174d-49bf-adea-ae1d22fe5f7b",
   "metadata": {},
   "outputs": [],
   "source": [
    "#Prepare data to export\n",
    "yhat_final = ensemble['pred']\n",
    "df2_x['Reserva Cancelada'] = yhat_final\n",
    "submission = df2_x[['id', 'Reserva Cancelada']].copy()"
   ]
  },
  {
   "cell_type": "code",
   "execution_count": null,
   "id": "c74a3114-7c99-421a-97cc-69a2a0409265",
   "metadata": {},
   "outputs": [],
   "source": [
    "#Export data\n",
    "submission.to_csv('submission.csv', index=False)"
   ]
  }
 ],
 "metadata": {
  "kernelspec": {
   "display_name": "Python 3 (ipykernel)",
   "language": "python",
   "name": "python3"
  },
  "language_info": {
   "codemirror_mode": {
    "name": "ipython",
    "version": 3
   },
   "file_extension": ".py",
   "mimetype": "text/x-python",
   "name": "python",
   "nbconvert_exporter": "python",
   "pygments_lexer": "ipython3",
   "version": "3.9.12"
  }
 },
 "nbformat": 4,
 "nbformat_minor": 5
}
