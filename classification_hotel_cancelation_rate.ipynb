{
  "cells": [
    {
      "attachments": {},
      "cell_type": "markdown",
      "id": "be9b865f",
      "metadata": {
        "id": "be9b865f",
        "tags": []
      },
      "source": [
        "# 0.0. Imports"
      ]
    },
    {
      "cell_type": "code",
      "execution_count": 4,
      "id": "c3e45637",
      "metadata": {
        "ExecuteTime": {
          "end_time": "2023-03-26T19:34:10.738032Z",
          "start_time": "2023-03-26T19:34:10.731719Z"
        },
        "id": "c3e45637"
      },
      "outputs": [],
      "source": [
        "#Import Libraries\n",
        "import pickle\n",
        "import inflection\n",
        "\n",
        "import numpy as np\n",
        "import pandas as pd\n",
        "import seaborn as sn\n",
        "\n",
        "from ydata_profiling import ProfileReport\n",
        "\n",
        "from matplotlib import pyplot as plt\n",
        "\n",
        "from xgboost import XGBClassifier\n",
        "\n",
        "from sklearn import svm\n",
        "from sklearn import metrics as mt\n",
        "from sklearn import ensemble as en\n",
        "from sklearn import model_selection as ms\n",
        "from sklearn import preprocessing   as pp\n",
        "from sklearn import linear_model as lm\n",
        "from sklearn import ensemble as en"
      ]
    },
    {
      "attachments": {},
      "cell_type": "markdown",
      "id": "1d4055de-c082-4603-ae71-fc25a50d3736",
      "metadata": {
        "id": "1d4055de-c082-4603-ae71-fc25a50d3736"
      },
      "source": [
        "# 0.1. Functions"
      ]
    },
    {
      "cell_type": "code",
      "execution_count": 5,
      "id": "29018728-1457-4ad2-a5ff-de0fa5ab4977",
      "metadata": {
        "id": "29018728-1457-4ad2-a5ff-de0fa5ab4977"
      },
      "outputs": [],
      "source": [
        "#Rename dataframe columns\n",
        "def rename_cols(df):\n",
        "    cols_old = ['id', 'Classificacao_do_hotel', 'Meses_da_reserva_ate_o_check-in', 'Numero_de_pernoites_reservadas', \n",
        "                'Numero_de_hospedes', 'Regime_de_alimentacao', 'Nacionalidade', 'Forma_de_Reserva',\n",
        "                'Ja_se_hospedou_anterioremente', 'Tipo_do_quarto_reservado', 'Reserva_feita_por_agencia_de_turismo', \n",
        "                'Reserva_feita_por_empresa', 'Reserva_com_Estacionamento', 'Reserva_com_Observacoes', \n",
        "                'Reserva_Cancelada', 'latitude', 'longitude']\n",
        "    \n",
        "    snakecase = lambda x: inflection.underscore(x)\n",
        "    cols_new = list(map(snakecase, cols_old))\n",
        "    df.columns = cols_new\n",
        "    \n",
        "    return df\n",
        "\n",
        "def rename_cols_x(df):\n",
        "    cols_old = ['id', 'Classificacao_do_hotel', 'Meses_da_reserva_ate_o_check-in', 'Numero_de_pernoites_reservadas', \n",
        "                'Numero_de_hospedes', 'Regime_de_alimentacao', 'Nacionalidade', 'Forma_de_Reserva',\n",
        "                'Ja_se_hospedou_anterioremente', 'Tipo_do_quarto_reservado', 'Reserva_feita_por_agencia_de_turismo', \n",
        "                'Reserva_feita_por_empresa', 'Reserva_com_Estacionamento', 'Reserva_com_Observacoes', 'latitude', 'longitude']\n",
        "    \n",
        "    snakecase = lambda x: inflection.underscore(x)\n",
        "    cols_new = list(map(snakecase, cols_old))\n",
        "    df.columns = cols_new\n",
        "    \n",
        "    return df\n",
        "\n",
        "#Suiting data to algorithm application\n",
        "def feature_eng(df):\n",
        "    df['classificacao_do_hotel'] = df['classificacao_do_hotel'].apply(lambda x: x.replace(' estrelas', ''))\n",
        "    \n",
        "    #Suiting data to algorithm application\n",
        "    df['ja_se_hospedou_anterioremente'] = df['ja_se_hospedou_anterioremente'].apply(lambda x: x.replace('Sim', '1'))\n",
        "    df['ja_se_hospedou_anterioremente'] = df['ja_se_hospedou_anterioremente'].apply(lambda x: x.replace('Não', '0'))\n",
        "    \n",
        "    #Suiting data to algorithm application\n",
        "    df['reserva_feita_por_agencia_de_turismo'] = df['reserva_feita_por_agencia_de_turismo'].apply(lambda x: x.replace('Sim', '1'))\n",
        "    df['reserva_feita_por_agencia_de_turismo'] = df['reserva_feita_por_agencia_de_turismo'].apply(lambda x: x.replace('Não', '0'))\n",
        "    \n",
        "    #Suiting data to algorithm application\n",
        "    df['reserva_feita_por_empresa'] = df['reserva_feita_por_empresa'].apply(lambda x: x.replace('Sim', '1'))\n",
        "    df['reserva_feita_por_empresa'] = df['reserva_feita_por_empresa'].apply(lambda x: x.replace('Não', '0'))\n",
        "    \n",
        "    #Suiting data to algorithm application\n",
        "    df['reserva_com_estacionamento'] = df['reserva_com_estacionamento'].apply(lambda x: x.replace('Sim', '1'))\n",
        "    df['reserva_com_estacionamento'] = df['reserva_com_estacionamento'].apply(lambda x: x.replace('Não', '0'))\n",
        "    \n",
        "    #Adjusting data types\n",
        "    df['classificacao_do_hotel'] = df['classificacao_do_hotel'].astype('int64')\n",
        "    df['ja_se_hospedou_anterioremente'] = df['ja_se_hospedou_anterioremente'].astype('int64')\n",
        "    df['reserva_feita_por_agencia_de_turismo'] = df['reserva_feita_por_agencia_de_turismo'].astype('int64')\n",
        "    df['reserva_feita_por_empresa'] = df['reserva_feita_por_empresa'].astype('int64')\n",
        "    df['reserva_com_estacionamento'] = df['reserva_com_estacionamento'].astype('int64')\n",
        "    \n",
        "    return df\n",
        "\n",
        "#Optimizing values for algorithm application\n",
        "def feature_opt(df):\n",
        "    #Make a frequency dictionary of each category\n",
        "    freq_dict = df['tipo_do_quarto_reservado'].value_counts(normalize=True).to_dict()\n",
        "    \n",
        "    #Apply encoder to dataframe\n",
        "    df['tipo_do_quarto_reservado_encoded'] = df['tipo_do_quarto_reservado'].map(freq_dict)\n",
        "    \n",
        "    #Make a frequency dictionary of each category\n",
        "    freq_dict = df['nacionalidade'].value_counts(normalize=True).to_dict()\n",
        "    \n",
        "    #Apply encoder to dataframe\n",
        "    df['nacionalidade'] = df['nacionalidade'].map(freq_dict)\n",
        "    \n",
        "    #Dummy variables\n",
        "    cols_dummy = ['regime_de_alimentacao', 'forma_de_reserva', 'reserva_com_observacoes']  \n",
        "    df_dummy = pd.get_dummies(df[cols_dummy])  \n",
        "    df = pd.concat([df, df_dummy], axis=1)\n",
        "    \n",
        "    #Adjusting values for algorithm application\n",
        "    df['latitude'] = df['latitude'].str.replace('.', '')\n",
        "    df['longitude'] = df['longitude'].str.replace('.', '')\n",
        "    df['latitude'] = df['latitude'].astype('float64')\n",
        "    df['longitude'] = df['longitude'].astype('float64')\n",
        "    \n",
        "    #Apply radians to data for optimize\n",
        "    df['latitude'] = df['latitude'].apply(lambda x: np.radians(x/1000000))\n",
        "    df['longitude'] = df['longitude'].apply(lambda x: np.radians(x/1000000))\n",
        "    \n",
        "    return df\n",
        "\n",
        "def feature_opt_x(df):\n",
        "    #Make a frequency dictionary of each category\n",
        "    freq_dict = df['tipo_do_quarto_reservado'].value_counts(normalize=True).to_dict()\n",
        "    \n",
        "    #Apply encoder to dataframe\n",
        "    df['tipo_do_quarto_reservado_encoded'] = df['tipo_do_quarto_reservado'].map(freq_dict)\n",
        "    \n",
        "    #Make a frequency dictionary of each category\n",
        "    freq_dict = df['nacionalidade'].value_counts(normalize=True).to_dict()\n",
        "    \n",
        "    #Apply encoder to dataframe\n",
        "    df['nacionalidade'] = df['nacionalidade'].map(freq_dict)\n",
        "    \n",
        "    #Dummy variables\n",
        "    cols_dummy = ['regime_de_alimentacao', 'forma_de_reserva', 'reserva_com_observacoes']  \n",
        "    df_dummy = pd.get_dummies(df[cols_dummy])  \n",
        "    df = pd.concat([df, df_dummy], axis=1)\n",
        "    \n",
        "    #Adjusting values for algorithm application\n",
        "    df['latitude'] = df['latitude'].str.replace('.', '')\n",
        "    df['longitude'] = df['longitude'].str.replace('.', '')\n",
        "    df['latitude'] = df['latitude'].astype('float64')\n",
        "    df['longitude'] = df['longitude'].astype('float64')\n",
        "    \n",
        "    #Apply radians to data for optimize\n",
        "    df['latitude'] = df['latitude'].fillna(40463667)\n",
        "    df['longitude'] = df['longitude'].fillna(-374922)\n",
        "    df['latitude'] = df['latitude'].apply(lambda x: np.radians(x/1000000))\n",
        "    df['longitude'] = df['longitude'].apply(lambda x: np.radians(x/1000000))\n",
        "    \n",
        "    return df\n",
        "\n",
        "\n",
        "#Adjusting dataframe types\n",
        "def types_adjust(df):\n",
        "    df['numero_de_hospedes'] = df['numero_de_hospedes'].astype('int64')\n",
        "    df['classificacao_do_hotel'] = df['classificacao_do_hotel'].astype('int64')\n",
        "    df['ja_se_hospedou_anterioremente'] = df['ja_se_hospedou_anterioremente'].astype('int64')\n",
        "    df['reserva_feita_por_agencia_de_turismo'] = df['reserva_feita_por_agencia_de_turismo'].astype('int64')\n",
        "    df['reserva_feita_por_empresa'] = df['reserva_feita_por_empresa'].astype('int64')\n",
        "    df['reserva_com_estacionamento'] = df['reserva_com_estacionamento'].astype('int64')\n",
        "    \n",
        "    return df"
      ]
    },
    {
      "attachments": {},
      "cell_type": "markdown",
      "id": "40f1f5cd",
      "metadata": {
        "ExecuteTime": {
          "end_time": "2023-03-25T01:45:10.964211Z",
          "start_time": "2023-03-25T01:45:10.431585Z"
        },
        "heading_collapsed": true,
        "id": "40f1f5cd"
      },
      "source": [
        "# 1.0. Data Description"
      ]
    },
    {
      "attachments": {},
      "cell_type": "markdown",
      "id": "a44e7938",
      "metadata": {
        "heading_collapsed": true,
        "hidden": true,
        "id": "a44e7938"
      },
      "source": [
        "## 1.1. Loading Data"
      ]
    },
    {
      "cell_type": "code",
      "execution_count": 6,
      "id": "9d3310b9",
      "metadata": {
        "ExecuteTime": {
          "end_time": "2023-03-26T19:34:11.280067Z",
          "start_time": "2023-03-26T19:34:10.743042Z"
        },
        "hidden": true,
        "id": "9d3310b9"
      },
      "outputs": [],
      "source": [
        "#Import train data and country data (for merge)\n",
        "df_train = pd.read_csv('data/train.csv')\n",
        "df_country = pd.read_csv('data/country_base.csv', delimiter=';')\n",
        "\n",
        "#Merge train and country data\n",
        "df1 = pd.merge(df_train, df_country, on='Nacionalidade', how='left')\n",
        "\n",
        "#Drop dataframe column\n",
        "df1 = df1.drop('country', axis=1)"
      ]
    },
    {
      "cell_type": "code",
      "execution_count": 7,
      "id": "da092a78-a4b6-421a-9cb9-c05f667ef011",
      "metadata": {
        "id": "da092a78-a4b6-421a-9cb9-c05f667ef011"
      },
      "outputs": [],
      "source": [
        "#Import test data and country data (for merge)\n",
        "df_test = pd.read_csv('data/test.csv')\n",
        "df_country = pd.read_csv('data/country_base.csv', delimiter=';')\n",
        "\n",
        "#Merge train and country data\n",
        "df1_x = pd.merge(df_test, df_country, on='Nacionalidade', how='left')\n",
        "\n",
        "#Drop dataframe column\n",
        "df1_x = df1_x.drop('country', axis=1)"
      ]
    },
    {
      "attachments": {},
      "cell_type": "markdown",
      "id": "fc0a7f9f",
      "metadata": {
        "heading_collapsed": true,
        "hidden": true,
        "id": "fc0a7f9f"
      },
      "source": [
        "## 1.2. Rename Columns"
      ]
    },
    {
      "cell_type": "code",
      "execution_count": 8,
      "id": "6dddcb84-a960-4ef8-b83a-2a1d2f890eab",
      "metadata": {
        "id": "6dddcb84-a960-4ef8-b83a-2a1d2f890eab"
      },
      "outputs": [],
      "source": [
        "#Applying Rename Columns Function\n",
        "df1 = rename_cols(df1)\n",
        "df1_x = rename_cols_x(df1_x)"
      ]
    },
    {
      "attachments": {},
      "cell_type": "markdown",
      "id": "d4e724b0",
      "metadata": {
        "heading_collapsed": true,
        "hidden": true,
        "id": "d4e724b0",
        "tags": []
      },
      "source": [
        "## 1.3. Data Dimensions"
      ]
    },
    {
      "cell_type": "code",
      "execution_count": 9,
      "id": "8b135b2f",
      "metadata": {
        "ExecuteTime": {
          "end_time": "2023-03-26T19:34:11.625493Z",
          "start_time": "2023-03-26T19:34:11.464153Z"
        },
        "colab": {
          "base_uri": "https://localhost:8080/"
        },
        "hidden": true,
        "id": "8b135b2f",
        "outputId": "da7a7a47-9e73-4407-d200-9889ca9a804a"
      },
      "outputs": [
        {
          "name": "stdout",
          "output_type": "stream",
          "text": [
            "Train Number of rows: 72159\n",
            "Train Number of cols: 17\n",
            "\n",
            "\n",
            "Test Number of rows: 48106\n",
            "Test Number of cols: 16\n"
          ]
        }
      ],
      "source": [
        "#Counting number of rows and columns of the dataframe\n",
        "print('Train Number of rows: {}'.format(df1.shape[0]))\n",
        "print('Train Number of cols: {}'.format(df1.shape[1]))\n",
        "print('\\n')\n",
        "print('Test Number of rows: {}'.format(df1_x.shape[0]))\n",
        "print('Test Number of cols: {}'.format(df1_x.shape[1]))"
      ]
    },
    {
      "attachments": {},
      "cell_type": "markdown",
      "id": "292ec09b",
      "metadata": {
        "heading_collapsed": true,
        "hidden": true,
        "id": "292ec09b"
      },
      "source": [
        "## 1.4. Check NA"
      ]
    },
    {
      "cell_type": "code",
      "execution_count": 10,
      "id": "2cf7ddae",
      "metadata": {
        "ExecuteTime": {
          "end_time": "2023-03-26T19:34:11.860864Z",
          "start_time": "2023-03-26T19:34:11.629492Z"
        },
        "colab": {
          "base_uri": "https://localhost:8080/"
        },
        "hidden": true,
        "id": "2cf7ddae",
        "outputId": "2c3022ae-441c-463e-e388-82742435ab65"
      },
      "outputs": [
        {
          "data": {
            "text/plain": [
              "id                                         0\n",
              "classificacao_do_hotel                     0\n",
              "meses_da_reserva_ate_o_check_in            0\n",
              "numero_de_pernoites_reservadas             0\n",
              "numero_de_hospedes                         3\n",
              "regime_de_alimentacao                      0\n",
              "nacionalidade                           1093\n",
              "forma_de_reserva                           0\n",
              "ja_se_hospedou_anterioremente              0\n",
              "tipo_do_quarto_reservado                   0\n",
              "reserva_feita_por_agencia_de_turismo       0\n",
              "reserva_feita_por_empresa                  0\n",
              "reserva_com_estacionamento                 0\n",
              "reserva_com_observacoes                    0\n",
              "reserva_cancelada                          0\n",
              "latitude                                1093\n",
              "longitude                               1093\n",
              "dtype: int64"
            ]
          },
          "execution_count": 10,
          "metadata": {},
          "output_type": "execute_result"
        }
      ],
      "source": [
        "#Check of NA's values os de dataframe\n",
        "df1.isna().sum()"
      ]
    },
    {
      "cell_type": "code",
      "execution_count": 11,
      "id": "bc31d1c0-1a02-4e93-8978-fd9e54dfd1fe",
      "metadata": {
        "colab": {
          "base_uri": "https://localhost:8080/"
        },
        "id": "bc31d1c0-1a02-4e93-8978-fd9e54dfd1fe",
        "outputId": "63d9c068-6b59-4324-ed87-6a16e483ad9c"
      },
      "outputs": [
        {
          "data": {
            "text/plain": [
              "id                                        0\n",
              "classificacao_do_hotel                    0\n",
              "meses_da_reserva_ate_o_check_in           0\n",
              "numero_de_pernoites_reservadas            0\n",
              "numero_de_hospedes                        1\n",
              "regime_de_alimentacao                     0\n",
              "nacionalidade                           677\n",
              "forma_de_reserva                          0\n",
              "ja_se_hospedou_anterioremente             0\n",
              "tipo_do_quarto_reservado                  0\n",
              "reserva_feita_por_agencia_de_turismo      0\n",
              "reserva_feita_por_empresa                 0\n",
              "reserva_com_estacionamento                0\n",
              "reserva_com_observacoes                   0\n",
              "latitude                                677\n",
              "longitude                               677\n",
              "dtype: int64"
            ]
          },
          "execution_count": 11,
          "metadata": {},
          "output_type": "execute_result"
        }
      ],
      "source": [
        "df1_x.isna().sum()"
      ]
    },
    {
      "attachments": {},
      "cell_type": "markdown",
      "id": "9d4a1ffc",
      "metadata": {
        "hidden": true,
        "id": "9d4a1ffc"
      },
      "source": [
        "### 1.4.1. Drop / Replace NA's"
      ]
    },
    {
      "cell_type": "code",
      "execution_count": 12,
      "id": "e84b84df",
      "metadata": {
        "ExecuteTime": {
          "end_time": "2023-03-26T19:34:12.038246Z",
          "start_time": "2023-03-26T19:34:11.865022Z"
        },
        "hidden": true,
        "id": "e84b84df"
      },
      "outputs": [],
      "source": [
        "#Drop NA's from train dataframe\n",
        "df1 = df1.dropna()\n",
        "\n",
        "#Replace NA's from test dataframe\n",
        "df1_x['numero_de_hospedes'] = df1_x['numero_de_hospedes'].fillna(2)\n",
        "df1_x['nacionalidade'] = df1_x['nacionalidade'].fillna('Spain')\n",
        "df1_x['latitude'] = df1_x['latitude'].fillna(40463667)\n",
        "df1_x['longitude'] = df1_x['longitude'].fillna(-374922)"
      ]
    },
    {
      "attachments": {},
      "cell_type": "markdown",
      "id": "4682fcd5",
      "metadata": {
        "heading_collapsed": true,
        "hidden": true,
        "id": "4682fcd5"
      },
      "source": [
        "## 1.5. Data Dtypes"
      ]
    },
    {
      "cell_type": "code",
      "execution_count": 13,
      "id": "abdcd99b",
      "metadata": {
        "ExecuteTime": {
          "end_time": "2023-03-26T19:34:12.175001Z",
          "start_time": "2023-03-26T19:34:12.051111Z"
        },
        "colab": {
          "base_uri": "https://localhost:8080/"
        },
        "hidden": true,
        "id": "abdcd99b",
        "outputId": "e304b87f-0e64-41f3-8349-d30f50776ea9"
      },
      "outputs": [
        {
          "data": {
            "text/plain": [
              "id                                        int64\n",
              "classificacao_do_hotel                   object\n",
              "meses_da_reserva_ate_o_check_in           int64\n",
              "numero_de_pernoites_reservadas            int64\n",
              "numero_de_hospedes                      float64\n",
              "regime_de_alimentacao                    object\n",
              "nacionalidade                            object\n",
              "forma_de_reserva                         object\n",
              "ja_se_hospedou_anterioremente            object\n",
              "tipo_do_quarto_reservado                 object\n",
              "reserva_feita_por_agencia_de_turismo     object\n",
              "reserva_feita_por_empresa                object\n",
              "reserva_com_estacionamento               object\n",
              "reserva_com_observacoes                  object\n",
              "reserva_cancelada                         int64\n",
              "latitude                                 object\n",
              "longitude                                object\n",
              "dtype: object"
            ]
          },
          "execution_count": 13,
          "metadata": {},
          "output_type": "execute_result"
        }
      ],
      "source": [
        "#Checking train data dtypes\n",
        "df1.dtypes"
      ]
    },
    {
      "cell_type": "code",
      "execution_count": 14,
      "id": "b195d9c8-8e12-48d3-9157-e961b1365499",
      "metadata": {
        "colab": {
          "base_uri": "https://localhost:8080/"
        },
        "id": "b195d9c8-8e12-48d3-9157-e961b1365499",
        "outputId": "93a51914-a725-4412-fb29-f54e4831bd63"
      },
      "outputs": [
        {
          "data": {
            "text/plain": [
              "id                                        int64\n",
              "classificacao_do_hotel                   object\n",
              "meses_da_reserva_ate_o_check_in           int64\n",
              "numero_de_pernoites_reservadas            int64\n",
              "numero_de_hospedes                      float64\n",
              "regime_de_alimentacao                    object\n",
              "nacionalidade                            object\n",
              "forma_de_reserva                         object\n",
              "ja_se_hospedou_anterioremente            object\n",
              "tipo_do_quarto_reservado                 object\n",
              "reserva_feita_por_agencia_de_turismo     object\n",
              "reserva_feita_por_empresa                object\n",
              "reserva_com_estacionamento               object\n",
              "reserva_com_observacoes                  object\n",
              "latitude                                 object\n",
              "longitude                                object\n",
              "dtype: object"
            ]
          },
          "execution_count": 14,
          "metadata": {},
          "output_type": "execute_result"
        }
      ],
      "source": [
        "#Checking test data dtypes\n",
        "df1_x.dtypes"
      ]
    },
    {
      "attachments": {},
      "cell_type": "markdown",
      "id": "9729dd5a",
      "metadata": {
        "heading_collapsed": true,
        "hidden": true,
        "id": "9729dd5a"
      },
      "source": [
        "## 1.6. Data Balancing"
      ]
    },
    {
      "cell_type": "code",
      "execution_count": 15,
      "id": "8f61ac3b",
      "metadata": {
        "ExecuteTime": {
          "end_time": "2023-03-26T19:34:12.369195Z",
          "start_time": "2023-03-26T19:34:12.259182Z"
        },
        "colab": {
          "base_uri": "https://localhost:8080/"
        },
        "hidden": true,
        "id": "8f61ac3b",
        "outputId": "35944794-66ec-4b13-dadb-6f1319c28e09"
      },
      "outputs": [
        {
          "data": {
            "text/plain": [
              "0    0.62674\n",
              "1    0.37326\n",
              "Name: reserva_cancelada, dtype: float64"
            ]
          },
          "execution_count": 15,
          "metadata": {},
          "output_type": "execute_result"
        }
      ],
      "source": [
        "#Checking test data balance\n",
        "df1['reserva_cancelada'].value_counts(normalize=True)"
      ]
    },
    {
      "attachments": {},
      "cell_type": "markdown",
      "id": "a4e60ff0",
      "metadata": {
        "heading_collapsed": true,
        "hidden": true,
        "id": "a4e60ff0"
      },
      "source": [
        "## 1.7. Pandas Profiling"
      ]
    },
    {
      "cell_type": "code",
      "execution_count": 16,
      "id": "1d1e4c82",
      "metadata": {
        "ExecuteTime": {
          "end_time": "2023-03-26T19:34:12.554371Z",
          "start_time": "2023-03-26T19:34:12.372668Z"
        },
        "colab": {
          "base_uri": "https://localhost:8080/",
          "height": 232,
          "referenced_widgets": [
            "a39c8f7fcf004fa7b001e6baa535e63d",
            "d38f332905a34f8490d93215ba9a0049",
            "34a8f47f78c34075b78c09dc2bd77566",
            "f3752a88d0ab4708a8bcba8ffa0092f2",
            "2c18f2a69e1c4264bc58202b9c65f361",
            "52eb9462353c465b8a1d16159dcf3f9d",
            "b95454946cd348a78b9ed06fd17224ee",
            "bf5477558de24e7892f45a53458783aa",
            "4a5e96dd7b924373b0b606b87b1af42b",
            "ad5bfafcbf814c258f77c4065a7735e7",
            "0a5cd38591514c3a8407ea9d467ad3e2",
            "220b796562304bf3b36684e404cf792b",
            "4a082d2d18284cff8fe014cecfe076f5",
            "b68ca7f589284d76a6a9eb0c6b6aa0a2",
            "49f77b87d79c4c05839f66f952fbc857",
            "da856535608a491d9188a8f111102e93",
            "cfd25aac5cf6473f90dc165f7f47d902",
            "70c8ba6be4484e768f0aae97e5b0f739",
            "ea8d850019284d038f9836791f78ce3d",
            "211a4cb17cbc403fbe425b5ed4e64a11",
            "e5a11eff26bb486f8046e03347f7ff3d",
            "1e59d277a2674af1b5ebb0c743623476",
            "26dc5c1f8b7343c8a1343e8feb26b296",
            "05b4971fd67e4f50892244f085caba24",
            "135ce3605a3a44ff9aa4f77c36a23561",
            "9e76272d49eb494db63ab2d8d3cd40df",
            "a7aa54606e2c40098639e3754346f99f",
            "12575290a2924a4cb0ef02258c6d5647",
            "256f0d883c26458c8b493a7992b35733",
            "49b78b5f91504d3ba7c6a6deec81f659",
            "972f6d622d7f4892b0e51b5fddc38ff5",
            "7e909c4d6d1d40ea81c98552b57eaea1",
            "8e773d6b97594f07846cbe86fe7ec5b0",
            "bc34169ea7f04d7fbc749ae136366dbc",
            "6c9bb40bc74d4e30a5ea7337b2950686",
            "c173c4055ea849aeb9c0be000332f00f",
            "d6f7c7c67d274f33bd374b17eb33c294",
            "126f8df7f5184d739d42eff0ed44b760",
            "94b908d80e0448a2a2421cbd82943413",
            "3c8d218c95884ec0973ba2403a13a6fc",
            "4a71f7d31442487db2ba13ddd9a2e84b",
            "ba52ec492b484d09a561a9ba09520c41",
            "9a447afa56c7448fb556db6a5629851a",
            "f5d1beae41da40b7b96cfbe36f2f270d"
          ]
        },
        "hidden": true,
        "id": "1d1e4c82",
        "outputId": "5e818f1b-f677-42ae-8aac-7e4c8fcbdfeb"
      },
      "outputs": [
        {
          "data": {
            "application/vnd.jupyter.widget-view+json": {
              "model_id": "d820e91a37324a14aaa9cfb956105dbd",
              "version_major": 2,
              "version_minor": 0
            },
            "text/plain": [
              "Summarize dataset:   0%|          | 0/5 [00:00<?, ?it/s]"
            ]
          },
          "metadata": {},
          "output_type": "display_data"
        },
        {
          "data": {
            "application/vnd.jupyter.widget-view+json": {
              "model_id": "d6e51fec94ec42b4baf048a28e46a1bb",
              "version_major": 2,
              "version_minor": 0
            },
            "text/plain": [
              "Generate report structure:   0%|          | 0/1 [00:00<?, ?it/s]"
            ]
          },
          "metadata": {},
          "output_type": "display_data"
        },
        {
          "data": {
            "application/vnd.jupyter.widget-view+json": {
              "model_id": "65b2b0b7b7884775892c144767087225",
              "version_major": 2,
              "version_minor": 0
            },
            "text/plain": [
              "Render HTML:   0%|          | 0/1 [00:00<?, ?it/s]"
            ]
          },
          "metadata": {},
          "output_type": "display_data"
        },
        {
          "data": {
            "application/vnd.jupyter.widget-view+json": {
              "model_id": "142a5dfc462146349634c8a10561576b",
              "version_major": 2,
              "version_minor": 0
            },
            "text/plain": [
              "Export report to file:   0%|          | 0/1 [00:00<?, ?it/s]"
            ]
          },
          "metadata": {},
          "output_type": "display_data"
        }
      ],
      "source": [
        "#Report for External Data Analysis\n",
        "prof = ProfileReport(df1)\n",
        "prof.to_file(output_file='Profile_Report.html')\n",
        "# regime_de_alimentacao -> desbalanceado\n",
        "# nacionalidade -> desbalanceado\n",
        "# forma_de_reserva -> desbalanceado\n",
        "# ja_se_hospedou_anterioremente -> desbalanceado\n",
        "# tipo_do_quarto_reservado -> desbalanceado\n",
        "# reserva_feita_por_agencia_de_turismo -> desbalanceado\n",
        "# reserva_com_estacionamento -> desbalanceado"
      ]
    },
    {
      "attachments": {},
      "cell_type": "markdown",
      "id": "b0a6e176",
      "metadata": {
        "heading_collapsed": true,
        "id": "b0a6e176"
      },
      "source": [
        "# 2.0. Feature Engineering"
      ]
    },
    {
      "cell_type": "code",
      "execution_count": 17,
      "id": "3ec87883",
      "metadata": {
        "ExecuteTime": {
          "end_time": "2023-03-26T19:34:13.543976Z",
          "start_time": "2023-03-26T19:34:13.456205Z"
        },
        "hidden": true,
        "id": "3ec87883"
      },
      "outputs": [],
      "source": [
        "#Dataframe copy for data adjustment\n",
        "df2 = df1.copy()\n",
        "df2_x = df1_x.copy()"
      ]
    },
    {
      "cell_type": "code",
      "execution_count": 18,
      "id": "592ac569",
      "metadata": {
        "ExecuteTime": {
          "end_time": "2023-03-26T19:34:13.936695Z",
          "start_time": "2023-03-26T19:34:13.844345Z"
        },
        "hidden": true,
        "id": "592ac569"
      },
      "outputs": [],
      "source": [
        "#Applying Feature Engineering Function\n",
        "df2 = feature_eng(df2)\n",
        "df2_x = feature_eng(df2_x)"
      ]
    },
    {
      "cell_type": "code",
      "execution_count": 19,
      "id": "6bfceb26",
      "metadata": {
        "ExecuteTime": {
          "end_time": "2023-03-26T19:34:14.414567Z",
          "start_time": "2023-03-26T19:34:14.326758Z"
        },
        "colab": {
          "base_uri": "https://localhost:8080/",
          "height": 488
        },
        "hidden": true,
        "id": "6bfceb26",
        "outputId": "958087c9-fe06-48fd-fe4c-25900fc91f39"
      },
      "outputs": [
        {
          "data": {
            "text/html": [
              "<div>\n",
              "<style scoped>\n",
              "    .dataframe tbody tr th:only-of-type {\n",
              "        vertical-align: middle;\n",
              "    }\n",
              "\n",
              "    .dataframe tbody tr th {\n",
              "        vertical-align: top;\n",
              "    }\n",
              "\n",
              "    .dataframe thead th {\n",
              "        text-align: right;\n",
              "    }\n",
              "</style>\n",
              "<table border=\"1\" class=\"dataframe\">\n",
              "  <thead>\n",
              "    <tr style=\"text-align: right;\">\n",
              "      <th></th>\n",
              "      <th>id</th>\n",
              "      <th>classificacao_do_hotel</th>\n",
              "      <th>meses_da_reserva_ate_o_check_in</th>\n",
              "      <th>numero_de_pernoites_reservadas</th>\n",
              "      <th>numero_de_hospedes</th>\n",
              "      <th>regime_de_alimentacao</th>\n",
              "      <th>nacionalidade</th>\n",
              "      <th>forma_de_reserva</th>\n",
              "      <th>ja_se_hospedou_anterioremente</th>\n",
              "      <th>tipo_do_quarto_reservado</th>\n",
              "      <th>reserva_feita_por_agencia_de_turismo</th>\n",
              "      <th>reserva_feita_por_empresa</th>\n",
              "      <th>reserva_com_estacionamento</th>\n",
              "      <th>reserva_com_observacoes</th>\n",
              "      <th>reserva_cancelada</th>\n",
              "      <th>latitude</th>\n",
              "      <th>longitude</th>\n",
              "    </tr>\n",
              "  </thead>\n",
              "  <tbody>\n",
              "    <tr>\n",
              "      <th>0</th>\n",
              "      <td>33571</td>\n",
              "      <td>5</td>\n",
              "      <td>5</td>\n",
              "      <td>5</td>\n",
              "      <td>2.0</td>\n",
              "      <td>Café da manha e jantar</td>\n",
              "      <td>France</td>\n",
              "      <td>Agência</td>\n",
              "      <td>0</td>\n",
              "      <td>Amethyst</td>\n",
              "      <td>1</td>\n",
              "      <td>0</td>\n",
              "      <td>1</td>\n",
              "      <td>Nenhuma</td>\n",
              "      <td>0</td>\n",
              "      <td>46.227.638</td>\n",
              "      <td>2.213.749</td>\n",
              "    </tr>\n",
              "    <tr>\n",
              "      <th>1</th>\n",
              "      <td>82458</td>\n",
              "      <td>4</td>\n",
              "      <td>167</td>\n",
              "      <td>3</td>\n",
              "      <td>2.0</td>\n",
              "      <td>Café da manha</td>\n",
              "      <td>Spain</td>\n",
              "      <td>Agência</td>\n",
              "      <td>0</td>\n",
              "      <td>Amethyst</td>\n",
              "      <td>1</td>\n",
              "      <td>0</td>\n",
              "      <td>0</td>\n",
              "      <td>Nenhuma</td>\n",
              "      <td>1</td>\n",
              "      <td>40.463.667</td>\n",
              "      <td>-374.922</td>\n",
              "    </tr>\n",
              "    <tr>\n",
              "      <th>2</th>\n",
              "      <td>94061</td>\n",
              "      <td>4</td>\n",
              "      <td>4</td>\n",
              "      <td>3</td>\n",
              "      <td>2.0</td>\n",
              "      <td>Café da manha</td>\n",
              "      <td>Belgium</td>\n",
              "      <td>Agência</td>\n",
              "      <td>0</td>\n",
              "      <td>Amethyst</td>\n",
              "      <td>1</td>\n",
              "      <td>0</td>\n",
              "      <td>0</td>\n",
              "      <td>1 a 3</td>\n",
              "      <td>0</td>\n",
              "      <td>50.503.887</td>\n",
              "      <td>4.469.936</td>\n",
              "    </tr>\n",
              "    <tr>\n",
              "      <th>3</th>\n",
              "      <td>75196</td>\n",
              "      <td>4</td>\n",
              "      <td>13</td>\n",
              "      <td>2</td>\n",
              "      <td>2.0</td>\n",
              "      <td>Café da manha</td>\n",
              "      <td>Spain</td>\n",
              "      <td>Agência</td>\n",
              "      <td>0</td>\n",
              "      <td>Amethyst</td>\n",
              "      <td>1</td>\n",
              "      <td>0</td>\n",
              "      <td>0</td>\n",
              "      <td>Nenhuma</td>\n",
              "      <td>1</td>\n",
              "      <td>40.463.667</td>\n",
              "      <td>-374.922</td>\n",
              "    </tr>\n",
              "    <tr>\n",
              "      <th>4</th>\n",
              "      <td>82940</td>\n",
              "      <td>4</td>\n",
              "      <td>4</td>\n",
              "      <td>2</td>\n",
              "      <td>2.0</td>\n",
              "      <td>Café da manha</td>\n",
              "      <td>Spain</td>\n",
              "      <td>Agência</td>\n",
              "      <td>0</td>\n",
              "      <td>Amethyst</td>\n",
              "      <td>1</td>\n",
              "      <td>0</td>\n",
              "      <td>0</td>\n",
              "      <td>Nenhuma</td>\n",
              "      <td>1</td>\n",
              "      <td>40.463.667</td>\n",
              "      <td>-374.922</td>\n",
              "    </tr>\n",
              "    <tr>\n",
              "      <th>...</th>\n",
              "      <td>...</td>\n",
              "      <td>...</td>\n",
              "      <td>...</td>\n",
              "      <td>...</td>\n",
              "      <td>...</td>\n",
              "      <td>...</td>\n",
              "      <td>...</td>\n",
              "      <td>...</td>\n",
              "      <td>...</td>\n",
              "      <td>...</td>\n",
              "      <td>...</td>\n",
              "      <td>...</td>\n",
              "      <td>...</td>\n",
              "      <td>...</td>\n",
              "      <td>...</td>\n",
              "      <td>...</td>\n",
              "      <td>...</td>\n",
              "    </tr>\n",
              "    <tr>\n",
              "      <th>72154</th>\n",
              "      <td>101851</td>\n",
              "      <td>4</td>\n",
              "      <td>2</td>\n",
              "      <td>3</td>\n",
              "      <td>2.0</td>\n",
              "      <td>Café da manha</td>\n",
              "      <td>France</td>\n",
              "      <td>Agência</td>\n",
              "      <td>0</td>\n",
              "      <td>Green Emerald</td>\n",
              "      <td>1</td>\n",
              "      <td>0</td>\n",
              "      <td>0</td>\n",
              "      <td>1 a 3</td>\n",
              "      <td>0</td>\n",
              "      <td>46.227.638</td>\n",
              "      <td>2.213.749</td>\n",
              "    </tr>\n",
              "    <tr>\n",
              "      <th>72155</th>\n",
              "      <td>50800</td>\n",
              "      <td>4</td>\n",
              "      <td>4</td>\n",
              "      <td>2</td>\n",
              "      <td>2.0</td>\n",
              "      <td>Sem refeicao</td>\n",
              "      <td>Italy</td>\n",
              "      <td>Agência</td>\n",
              "      <td>0</td>\n",
              "      <td>Amethyst</td>\n",
              "      <td>1</td>\n",
              "      <td>0</td>\n",
              "      <td>1</td>\n",
              "      <td>1 a 3</td>\n",
              "      <td>0</td>\n",
              "      <td>4.187.194</td>\n",
              "      <td>1.256.738</td>\n",
              "    </tr>\n",
              "    <tr>\n",
              "      <th>72156</th>\n",
              "      <td>4101</td>\n",
              "      <td>5</td>\n",
              "      <td>5</td>\n",
              "      <td>2</td>\n",
              "      <td>2.0</td>\n",
              "      <td>Café da manha e jantar</td>\n",
              "      <td>Spain</td>\n",
              "      <td>Agência</td>\n",
              "      <td>0</td>\n",
              "      <td>Amethyst</td>\n",
              "      <td>0</td>\n",
              "      <td>0</td>\n",
              "      <td>0</td>\n",
              "      <td>Nenhuma</td>\n",
              "      <td>1</td>\n",
              "      <td>40.463.667</td>\n",
              "      <td>-374.922</td>\n",
              "    </tr>\n",
              "    <tr>\n",
              "      <th>72157</th>\n",
              "      <td>15828</td>\n",
              "      <td>5</td>\n",
              "      <td>1</td>\n",
              "      <td>8</td>\n",
              "      <td>2.0</td>\n",
              "      <td>Café da manha e jantar</td>\n",
              "      <td>Spain</td>\n",
              "      <td>Balcão</td>\n",
              "      <td>0</td>\n",
              "      <td>Pink Sapphire</td>\n",
              "      <td>1</td>\n",
              "      <td>0</td>\n",
              "      <td>0</td>\n",
              "      <td>Nenhuma</td>\n",
              "      <td>0</td>\n",
              "      <td>40.463.667</td>\n",
              "      <td>-374.922</td>\n",
              "    </tr>\n",
              "    <tr>\n",
              "      <th>72158</th>\n",
              "      <td>3164</td>\n",
              "      <td>5</td>\n",
              "      <td>4</td>\n",
              "      <td>14</td>\n",
              "      <td>2.0</td>\n",
              "      <td>Café da manha e jantar</td>\n",
              "      <td>Spain</td>\n",
              "      <td>Agência</td>\n",
              "      <td>0</td>\n",
              "      <td>Pink Sapphire</td>\n",
              "      <td>1</td>\n",
              "      <td>0</td>\n",
              "      <td>0</td>\n",
              "      <td>Nenhuma</td>\n",
              "      <td>1</td>\n",
              "      <td>40.463.667</td>\n",
              "      <td>-374.922</td>\n",
              "    </tr>\n",
              "  </tbody>\n",
              "</table>\n",
              "<p>71063 rows × 17 columns</p>\n",
              "</div>"
            ],
            "text/plain": [
              "           id  classificacao_do_hotel  meses_da_reserva_ate_o_check_in  \\\n",
              "0       33571                       5                                5   \n",
              "1       82458                       4                              167   \n",
              "2       94061                       4                                4   \n",
              "3       75196                       4                               13   \n",
              "4       82940                       4                                4   \n",
              "...       ...                     ...                              ...   \n",
              "72154  101851                       4                                2   \n",
              "72155   50800                       4                                4   \n",
              "72156    4101                       5                                5   \n",
              "72157   15828                       5                                1   \n",
              "72158    3164                       5                                4   \n",
              "\n",
              "       numero_de_pernoites_reservadas  numero_de_hospedes  \\\n",
              "0                                   5                 2.0   \n",
              "1                                   3                 2.0   \n",
              "2                                   3                 2.0   \n",
              "3                                   2                 2.0   \n",
              "4                                   2                 2.0   \n",
              "...                               ...                 ...   \n",
              "72154                               3                 2.0   \n",
              "72155                               2                 2.0   \n",
              "72156                               2                 2.0   \n",
              "72157                               8                 2.0   \n",
              "72158                              14                 2.0   \n",
              "\n",
              "        regime_de_alimentacao nacionalidade forma_de_reserva  \\\n",
              "0      Café da manha e jantar        France          Agência   \n",
              "1               Café da manha         Spain          Agência   \n",
              "2               Café da manha       Belgium          Agência   \n",
              "3               Café da manha         Spain          Agência   \n",
              "4               Café da manha         Spain          Agência   \n",
              "...                       ...           ...              ...   \n",
              "72154           Café da manha        France          Agência   \n",
              "72155            Sem refeicao         Italy          Agência   \n",
              "72156  Café da manha e jantar         Spain          Agência   \n",
              "72157  Café da manha e jantar         Spain           Balcão   \n",
              "72158  Café da manha e jantar         Spain          Agência   \n",
              "\n",
              "       ja_se_hospedou_anterioremente tipo_do_quarto_reservado  \\\n",
              "0                                  0                 Amethyst   \n",
              "1                                  0                 Amethyst   \n",
              "2                                  0                 Amethyst   \n",
              "3                                  0                 Amethyst   \n",
              "4                                  0                 Amethyst   \n",
              "...                              ...                      ...   \n",
              "72154                              0            Green Emerald   \n",
              "72155                              0                 Amethyst   \n",
              "72156                              0                 Amethyst   \n",
              "72157                              0            Pink Sapphire   \n",
              "72158                              0            Pink Sapphire   \n",
              "\n",
              "       reserva_feita_por_agencia_de_turismo  reserva_feita_por_empresa  \\\n",
              "0                                         1                          0   \n",
              "1                                         1                          0   \n",
              "2                                         1                          0   \n",
              "3                                         1                          0   \n",
              "4                                         1                          0   \n",
              "...                                     ...                        ...   \n",
              "72154                                     1                          0   \n",
              "72155                                     1                          0   \n",
              "72156                                     0                          0   \n",
              "72157                                     1                          0   \n",
              "72158                                     1                          0   \n",
              "\n",
              "       reserva_com_estacionamento reserva_com_observacoes  reserva_cancelada  \\\n",
              "0                               1                 Nenhuma                  0   \n",
              "1                               0                 Nenhuma                  1   \n",
              "2                               0                   1 a 3                  0   \n",
              "3                               0                 Nenhuma                  1   \n",
              "4                               0                 Nenhuma                  1   \n",
              "...                           ...                     ...                ...   \n",
              "72154                           0                   1 a 3                  0   \n",
              "72155                           1                   1 a 3                  0   \n",
              "72156                           0                 Nenhuma                  1   \n",
              "72157                           0                 Nenhuma                  0   \n",
              "72158                           0                 Nenhuma                  1   \n",
              "\n",
              "         latitude  longitude  \n",
              "0      46.227.638  2.213.749  \n",
              "1      40.463.667   -374.922  \n",
              "2      50.503.887  4.469.936  \n",
              "3      40.463.667   -374.922  \n",
              "4      40.463.667   -374.922  \n",
              "...           ...        ...  \n",
              "72154  46.227.638  2.213.749  \n",
              "72155   4.187.194  1.256.738  \n",
              "72156  40.463.667   -374.922  \n",
              "72157  40.463.667   -374.922  \n",
              "72158  40.463.667   -374.922  \n",
              "\n",
              "[71063 rows x 17 columns]"
            ]
          },
          "execution_count": 19,
          "metadata": {},
          "output_type": "execute_result"
        }
      ],
      "source": [
        "#Checking data adjustments\n",
        "df2"
      ]
    },
    {
      "cell_type": "code",
      "execution_count": 20,
      "id": "b9ad0507",
      "metadata": {
        "ExecuteTime": {
          "end_time": "2023-03-26T19:34:14.503947Z",
          "start_time": "2023-03-26T19:34:14.418643Z"
        },
        "colab": {
          "base_uri": "https://localhost:8080/"
        },
        "hidden": true,
        "id": "b9ad0507",
        "outputId": "fc56d223-be68-4bbe-962b-373f730314f3"
      },
      "outputs": [
        {
          "data": {
            "text/plain": [
              "id                                        int64\n",
              "classificacao_do_hotel                    int64\n",
              "meses_da_reserva_ate_o_check_in           int64\n",
              "numero_de_pernoites_reservadas            int64\n",
              "numero_de_hospedes                      float64\n",
              "regime_de_alimentacao                    object\n",
              "nacionalidade                            object\n",
              "forma_de_reserva                         object\n",
              "ja_se_hospedou_anterioremente             int64\n",
              "tipo_do_quarto_reservado                 object\n",
              "reserva_feita_por_agencia_de_turismo      int64\n",
              "reserva_feita_por_empresa                 int64\n",
              "reserva_com_estacionamento                int64\n",
              "reserva_com_observacoes                  object\n",
              "reserva_cancelada                         int64\n",
              "latitude                                 object\n",
              "longitude                                object\n",
              "dtype: object"
            ]
          },
          "execution_count": 20,
          "metadata": {},
          "output_type": "execute_result"
        }
      ],
      "source": [
        "#Checking data types\n",
        "df2.dtypes"
      ]
    },
    {
      "cell_type": "code",
      "execution_count": 21,
      "id": "0d10fbea-f493-4b30-9a22-8be852f4bb48",
      "metadata": {
        "colab": {
          "base_uri": "https://localhost:8080/",
          "height": 488
        },
        "id": "0d10fbea-f493-4b30-9a22-8be852f4bb48",
        "outputId": "9e5708a4-f070-445c-858d-bf366743d904"
      },
      "outputs": [
        {
          "data": {
            "text/html": [
              "<div>\n",
              "<style scoped>\n",
              "    .dataframe tbody tr th:only-of-type {\n",
              "        vertical-align: middle;\n",
              "    }\n",
              "\n",
              "    .dataframe tbody tr th {\n",
              "        vertical-align: top;\n",
              "    }\n",
              "\n",
              "    .dataframe thead th {\n",
              "        text-align: right;\n",
              "    }\n",
              "</style>\n",
              "<table border=\"1\" class=\"dataframe\">\n",
              "  <thead>\n",
              "    <tr style=\"text-align: right;\">\n",
              "      <th></th>\n",
              "      <th>id</th>\n",
              "      <th>classificacao_do_hotel</th>\n",
              "      <th>meses_da_reserva_ate_o_check_in</th>\n",
              "      <th>numero_de_pernoites_reservadas</th>\n",
              "      <th>numero_de_hospedes</th>\n",
              "      <th>regime_de_alimentacao</th>\n",
              "      <th>nacionalidade</th>\n",
              "      <th>forma_de_reserva</th>\n",
              "      <th>ja_se_hospedou_anterioremente</th>\n",
              "      <th>tipo_do_quarto_reservado</th>\n",
              "      <th>reserva_feita_por_agencia_de_turismo</th>\n",
              "      <th>reserva_feita_por_empresa</th>\n",
              "      <th>reserva_com_estacionamento</th>\n",
              "      <th>reserva_com_observacoes</th>\n",
              "      <th>latitude</th>\n",
              "      <th>longitude</th>\n",
              "    </tr>\n",
              "  </thead>\n",
              "  <tbody>\n",
              "    <tr>\n",
              "      <th>0</th>\n",
              "      <td>118345</td>\n",
              "      <td>4</td>\n",
              "      <td>8</td>\n",
              "      <td>13</td>\n",
              "      <td>3.0</td>\n",
              "      <td>Café da manha</td>\n",
              "      <td>South Korea</td>\n",
              "      <td>Balcão</td>\n",
              "      <td>0</td>\n",
              "      <td>Green Emerald</td>\n",
              "      <td>1</td>\n",
              "      <td>0</td>\n",
              "      <td>0</td>\n",
              "      <td>Nenhuma</td>\n",
              "      <td>35.907.757</td>\n",
              "      <td>127.766.922</td>\n",
              "    </tr>\n",
              "    <tr>\n",
              "      <th>1</th>\n",
              "      <td>9500</td>\n",
              "      <td>5</td>\n",
              "      <td>5</td>\n",
              "      <td>4</td>\n",
              "      <td>769.0</td>\n",
              "      <td>Café da manha</td>\n",
              "      <td>United States</td>\n",
              "      <td>Agência</td>\n",
              "      <td>0</td>\n",
              "      <td>Pink Sapphire</td>\n",
              "      <td>1</td>\n",
              "      <td>0</td>\n",
              "      <td>0</td>\n",
              "      <td>Nenhuma</td>\n",
              "      <td>3.709.024</td>\n",
              "      <td>-95.712.891</td>\n",
              "    </tr>\n",
              "    <tr>\n",
              "      <th>2</th>\n",
              "      <td>34558</td>\n",
              "      <td>5</td>\n",
              "      <td>4</td>\n",
              "      <td>11</td>\n",
              "      <td>1.0</td>\n",
              "      <td>Café da manha e jantar</td>\n",
              "      <td>United Kingdom</td>\n",
              "      <td>Agência</td>\n",
              "      <td>0</td>\n",
              "      <td>Amethyst</td>\n",
              "      <td>0</td>\n",
              "      <td>0</td>\n",
              "      <td>0</td>\n",
              "      <td>Nenhuma</td>\n",
              "      <td>55.378.051</td>\n",
              "      <td>-3.435.973</td>\n",
              "    </tr>\n",
              "    <tr>\n",
              "      <th>3</th>\n",
              "      <td>70816</td>\n",
              "      <td>4</td>\n",
              "      <td>7</td>\n",
              "      <td>4</td>\n",
              "      <td>2.0</td>\n",
              "      <td>Café da manha</td>\n",
              "      <td>Spain</td>\n",
              "      <td>Agência</td>\n",
              "      <td>0</td>\n",
              "      <td>Amethyst</td>\n",
              "      <td>0</td>\n",
              "      <td>0</td>\n",
              "      <td>0</td>\n",
              "      <td>Nenhuma</td>\n",
              "      <td>40.463.667</td>\n",
              "      <td>-374.922</td>\n",
              "    </tr>\n",
              "    <tr>\n",
              "      <th>4</th>\n",
              "      <td>105321</td>\n",
              "      <td>4</td>\n",
              "      <td>1</td>\n",
              "      <td>8</td>\n",
              "      <td>2.0</td>\n",
              "      <td>Café da manha</td>\n",
              "      <td>Italy</td>\n",
              "      <td>B2B</td>\n",
              "      <td>0</td>\n",
              "      <td>Amethyst</td>\n",
              "      <td>0</td>\n",
              "      <td>1</td>\n",
              "      <td>0</td>\n",
              "      <td>1 a 3</td>\n",
              "      <td>4.187.194</td>\n",
              "      <td>1.256.738</td>\n",
              "    </tr>\n",
              "    <tr>\n",
              "      <th>...</th>\n",
              "      <td>...</td>\n",
              "      <td>...</td>\n",
              "      <td>...</td>\n",
              "      <td>...</td>\n",
              "      <td>...</td>\n",
              "      <td>...</td>\n",
              "      <td>...</td>\n",
              "      <td>...</td>\n",
              "      <td>...</td>\n",
              "      <td>...</td>\n",
              "      <td>...</td>\n",
              "      <td>...</td>\n",
              "      <td>...</td>\n",
              "      <td>...</td>\n",
              "      <td>...</td>\n",
              "      <td>...</td>\n",
              "    </tr>\n",
              "    <tr>\n",
              "      <th>48101</th>\n",
              "      <td>23143</td>\n",
              "      <td>5</td>\n",
              "      <td>1</td>\n",
              "      <td>7</td>\n",
              "      <td>2.0</td>\n",
              "      <td>Café da manha e jantar</td>\n",
              "      <td>United Kingdom</td>\n",
              "      <td>Agência</td>\n",
              "      <td>0</td>\n",
              "      <td>Green Emerald</td>\n",
              "      <td>1</td>\n",
              "      <td>0</td>\n",
              "      <td>0</td>\n",
              "      <td>Nenhuma</td>\n",
              "      <td>55.378.051</td>\n",
              "      <td>-3.435.973</td>\n",
              "    </tr>\n",
              "    <tr>\n",
              "      <th>48102</th>\n",
              "      <td>78403</td>\n",
              "      <td>4</td>\n",
              "      <td>1</td>\n",
              "      <td>4</td>\n",
              "      <td>1.0</td>\n",
              "      <td>Café da manha</td>\n",
              "      <td>Belgium</td>\n",
              "      <td>Agência</td>\n",
              "      <td>0</td>\n",
              "      <td>Amethyst</td>\n",
              "      <td>1</td>\n",
              "      <td>0</td>\n",
              "      <td>0</td>\n",
              "      <td>Nenhuma</td>\n",
              "      <td>50.503.887</td>\n",
              "      <td>4.469.936</td>\n",
              "    </tr>\n",
              "    <tr>\n",
              "      <th>48103</th>\n",
              "      <td>95111</td>\n",
              "      <td>4</td>\n",
              "      <td>7</td>\n",
              "      <td>1</td>\n",
              "      <td>4.0</td>\n",
              "      <td>Café da manha</td>\n",
              "      <td>Germany</td>\n",
              "      <td>Agência</td>\n",
              "      <td>0</td>\n",
              "      <td>Tanzanite</td>\n",
              "      <td>1</td>\n",
              "      <td>0</td>\n",
              "      <td>0</td>\n",
              "      <td>1 a 3</td>\n",
              "      <td>51.165.691</td>\n",
              "      <td>10.451.526</td>\n",
              "    </tr>\n",
              "    <tr>\n",
              "      <th>48104</th>\n",
              "      <td>68717</td>\n",
              "      <td>4</td>\n",
              "      <td>4</td>\n",
              "      <td>3</td>\n",
              "      <td>1.0</td>\n",
              "      <td>Café da manha</td>\n",
              "      <td>Spain</td>\n",
              "      <td>Agência</td>\n",
              "      <td>0</td>\n",
              "      <td>Amethyst</td>\n",
              "      <td>0</td>\n",
              "      <td>0</td>\n",
              "      <td>0</td>\n",
              "      <td>Nenhuma</td>\n",
              "      <td>40.463.667</td>\n",
              "      <td>-374.922</td>\n",
              "    </tr>\n",
              "    <tr>\n",
              "      <th>48105</th>\n",
              "      <td>10119</td>\n",
              "      <td>5</td>\n",
              "      <td>8</td>\n",
              "      <td>2</td>\n",
              "      <td>2.0</td>\n",
              "      <td>Café da manha e jantar</td>\n",
              "      <td>Spain</td>\n",
              "      <td>Agência</td>\n",
              "      <td>0</td>\n",
              "      <td>Amethyst</td>\n",
              "      <td>1</td>\n",
              "      <td>0</td>\n",
              "      <td>0</td>\n",
              "      <td>Nenhuma</td>\n",
              "      <td>40.463.667</td>\n",
              "      <td>-374.922</td>\n",
              "    </tr>\n",
              "  </tbody>\n",
              "</table>\n",
              "<p>48106 rows × 16 columns</p>\n",
              "</div>"
            ],
            "text/plain": [
              "           id  classificacao_do_hotel  meses_da_reserva_ate_o_check_in  \\\n",
              "0      118345                       4                                8   \n",
              "1        9500                       5                                5   \n",
              "2       34558                       5                                4   \n",
              "3       70816                       4                                7   \n",
              "4      105321                       4                                1   \n",
              "...       ...                     ...                              ...   \n",
              "48101   23143                       5                                1   \n",
              "48102   78403                       4                                1   \n",
              "48103   95111                       4                                7   \n",
              "48104   68717                       4                                4   \n",
              "48105   10119                       5                                8   \n",
              "\n",
              "       numero_de_pernoites_reservadas  numero_de_hospedes  \\\n",
              "0                                  13                 3.0   \n",
              "1                                   4               769.0   \n",
              "2                                  11                 1.0   \n",
              "3                                   4                 2.0   \n",
              "4                                   8                 2.0   \n",
              "...                               ...                 ...   \n",
              "48101                               7                 2.0   \n",
              "48102                               4                 1.0   \n",
              "48103                               1                 4.0   \n",
              "48104                               3                 1.0   \n",
              "48105                               2                 2.0   \n",
              "\n",
              "        regime_de_alimentacao   nacionalidade forma_de_reserva  \\\n",
              "0               Café da manha     South Korea           Balcão   \n",
              "1               Café da manha   United States          Agência   \n",
              "2      Café da manha e jantar  United Kingdom          Agência   \n",
              "3               Café da manha           Spain          Agência   \n",
              "4               Café da manha           Italy              B2B   \n",
              "...                       ...             ...              ...   \n",
              "48101  Café da manha e jantar  United Kingdom          Agência   \n",
              "48102           Café da manha         Belgium          Agência   \n",
              "48103           Café da manha         Germany          Agência   \n",
              "48104           Café da manha           Spain          Agência   \n",
              "48105  Café da manha e jantar           Spain          Agência   \n",
              "\n",
              "       ja_se_hospedou_anterioremente tipo_do_quarto_reservado  \\\n",
              "0                                  0            Green Emerald   \n",
              "1                                  0            Pink Sapphire   \n",
              "2                                  0                 Amethyst   \n",
              "3                                  0                 Amethyst   \n",
              "4                                  0                 Amethyst   \n",
              "...                              ...                      ...   \n",
              "48101                              0            Green Emerald   \n",
              "48102                              0                 Amethyst   \n",
              "48103                              0                Tanzanite   \n",
              "48104                              0                 Amethyst   \n",
              "48105                              0                 Amethyst   \n",
              "\n",
              "       reserva_feita_por_agencia_de_turismo  reserva_feita_por_empresa  \\\n",
              "0                                         1                          0   \n",
              "1                                         1                          0   \n",
              "2                                         0                          0   \n",
              "3                                         0                          0   \n",
              "4                                         0                          1   \n",
              "...                                     ...                        ...   \n",
              "48101                                     1                          0   \n",
              "48102                                     1                          0   \n",
              "48103                                     1                          0   \n",
              "48104                                     0                          0   \n",
              "48105                                     1                          0   \n",
              "\n",
              "       reserva_com_estacionamento reserva_com_observacoes    latitude  \\\n",
              "0                               0                 Nenhuma  35.907.757   \n",
              "1                               0                 Nenhuma   3.709.024   \n",
              "2                               0                 Nenhuma  55.378.051   \n",
              "3                               0                 Nenhuma  40.463.667   \n",
              "4                               0                   1 a 3   4.187.194   \n",
              "...                           ...                     ...         ...   \n",
              "48101                           0                 Nenhuma  55.378.051   \n",
              "48102                           0                 Nenhuma  50.503.887   \n",
              "48103                           0                   1 a 3  51.165.691   \n",
              "48104                           0                 Nenhuma  40.463.667   \n",
              "48105                           0                 Nenhuma  40.463.667   \n",
              "\n",
              "         longitude  \n",
              "0      127.766.922  \n",
              "1      -95.712.891  \n",
              "2       -3.435.973  \n",
              "3         -374.922  \n",
              "4        1.256.738  \n",
              "...            ...  \n",
              "48101   -3.435.973  \n",
              "48102    4.469.936  \n",
              "48103   10.451.526  \n",
              "48104     -374.922  \n",
              "48105     -374.922  \n",
              "\n",
              "[48106 rows x 16 columns]"
            ]
          },
          "execution_count": 21,
          "metadata": {},
          "output_type": "execute_result"
        }
      ],
      "source": [
        "df2_x"
      ]
    },
    {
      "cell_type": "code",
      "execution_count": 22,
      "id": "e17b923e-60f7-4d1f-ae1e-53f56a56be73",
      "metadata": {
        "colab": {
          "base_uri": "https://localhost:8080/"
        },
        "id": "e17b923e-60f7-4d1f-ae1e-53f56a56be73",
        "outputId": "af223396-937e-43d6-fbef-d431f1c85eb4"
      },
      "outputs": [
        {
          "data": {
            "text/plain": [
              "id                                        int64\n",
              "classificacao_do_hotel                    int64\n",
              "meses_da_reserva_ate_o_check_in           int64\n",
              "numero_de_pernoites_reservadas            int64\n",
              "numero_de_hospedes                      float64\n",
              "regime_de_alimentacao                    object\n",
              "nacionalidade                            object\n",
              "forma_de_reserva                         object\n",
              "ja_se_hospedou_anterioremente             int64\n",
              "tipo_do_quarto_reservado                 object\n",
              "reserva_feita_por_agencia_de_turismo      int64\n",
              "reserva_feita_por_empresa                 int64\n",
              "reserva_com_estacionamento                int64\n",
              "reserva_com_observacoes                  object\n",
              "latitude                                 object\n",
              "longitude                                object\n",
              "dtype: object"
            ]
          },
          "execution_count": 22,
          "metadata": {},
          "output_type": "execute_result"
        }
      ],
      "source": [
        "df2_x.dtypes"
      ]
    },
    {
      "attachments": {},
      "cell_type": "markdown",
      "id": "66cc9a58",
      "metadata": {
        "id": "66cc9a58",
        "jp-MarkdownHeadingCollapsed": true,
        "tags": []
      },
      "source": [
        "# 3.0. Data Filtering"
      ]
    },
    {
      "cell_type": "code",
      "execution_count": 23,
      "id": "47c68e0f",
      "metadata": {
        "ExecuteTime": {
          "end_time": "2023-03-26T19:34:14.844206Z",
          "start_time": "2023-03-26T19:34:14.762077Z"
        },
        "id": "47c68e0f"
      },
      "outputs": [],
      "source": [
        "#This section was not used for this project"
      ]
    },
    {
      "attachments": {},
      "cell_type": "markdown",
      "id": "55684f1c",
      "metadata": {
        "id": "55684f1c"
      },
      "source": [
        "# 4.0. Data Preparation "
      ]
    },
    {
      "cell_type": "code",
      "execution_count": 24,
      "id": "3ad9776c",
      "metadata": {
        "ExecuteTime": {
          "end_time": "2023-03-26T19:34:15.013741Z",
          "start_time": "2023-03-26T19:34:14.920129Z"
        },
        "id": "3ad9776c"
      },
      "outputs": [],
      "source": [
        "#Dataframe copy for data preparation\n",
        "df3 = df2.copy()\n",
        "df3_x = df2_x.copy()"
      ]
    },
    {
      "cell_type": "code",
      "execution_count": 25,
      "id": "703f3c94",
      "metadata": {
        "ExecuteTime": {
          "end_time": "2023-03-26T19:34:15.318845Z",
          "start_time": "2023-03-26T19:34:15.206818Z"
        },
        "colab": {
          "base_uri": "https://localhost:8080/"
        },
        "id": "703f3c94",
        "outputId": "96197e6d-ab73-488d-e17f-75bc1ed89c30"
      },
      "outputs": [
        {
          "name": "stderr",
          "output_type": "stream",
          "text": [
            "C:\\Users\\Caio\\AppData\\Local\\Temp\\ipykernel_14152\\462635688.py:76: FutureWarning: The default value of regex will change from True to False in a future version. In addition, single character regular expressions will *not* be treated as literal strings when regex=True.\n",
            "  df['latitude'] = df['latitude'].str.replace('.', '')\n",
            "C:\\Users\\Caio\\AppData\\Local\\Temp\\ipykernel_14152\\462635688.py:77: FutureWarning: The default value of regex will change from True to False in a future version. In addition, single character regular expressions will *not* be treated as literal strings when regex=True.\n",
            "  df['longitude'] = df['longitude'].str.replace('.', '')\n",
            "C:\\Users\\Caio\\AppData\\Local\\Temp\\ipykernel_14152\\462635688.py:106: FutureWarning: The default value of regex will change from True to False in a future version. In addition, single character regular expressions will *not* be treated as literal strings when regex=True.\n",
            "  df['latitude'] = df['latitude'].str.replace('.', '')\n",
            "C:\\Users\\Caio\\AppData\\Local\\Temp\\ipykernel_14152\\462635688.py:107: FutureWarning: The default value of regex will change from True to False in a future version. In addition, single character regular expressions will *not* be treated as literal strings when regex=True.\n",
            "  df['longitude'] = df['longitude'].str.replace('.', '')\n"
          ]
        }
      ],
      "source": [
        "#Applying Feature Optimizer Function\n",
        "df3 = feature_opt(df3)\n",
        "\n",
        "df3_x = feature_opt_x(df3_x)"
      ]
    },
    {
      "cell_type": "code",
      "execution_count": 26,
      "id": "964aff87-cc5e-487d-adb2-73e0249d3af6",
      "metadata": {
        "colab": {
          "base_uri": "https://localhost:8080/"
        },
        "id": "964aff87-cc5e-487d-adb2-73e0249d3af6",
        "outputId": "69fa89e3-95d0-4589-86f5-24a8c5f5664c"
      },
      "outputs": [
        {
          "data": {
            "text/plain": [
              "id                                                        int64\n",
              "classificacao_do_hotel                                    int64\n",
              "meses_da_reserva_ate_o_check_in                           int64\n",
              "numero_de_pernoites_reservadas                            int64\n",
              "numero_de_hospedes                                      float64\n",
              "regime_de_alimentacao                                    object\n",
              "nacionalidade                                           float64\n",
              "forma_de_reserva                                         object\n",
              "ja_se_hospedou_anterioremente                             int64\n",
              "tipo_do_quarto_reservado                                 object\n",
              "reserva_feita_por_agencia_de_turismo                      int64\n",
              "reserva_feita_por_empresa                                 int64\n",
              "reserva_com_estacionamento                                int64\n",
              "reserva_com_observacoes                                  object\n",
              "reserva_cancelada                                         int64\n",
              "latitude                                                float64\n",
              "longitude                                               float64\n",
              "tipo_do_quarto_reservado_encoded                        float64\n",
              "regime_de_alimentacao_Café da manha                       uint8\n",
              "regime_de_alimentacao_Café da manha e jantar              uint8\n",
              "regime_de_alimentacao_Café da manha, almoco e jantar      uint8\n",
              "regime_de_alimentacao_Sem refeicao                        uint8\n",
              "forma_de_reserva_Agência                                  uint8\n",
              "forma_de_reserva_B2B                                      uint8\n",
              "forma_de_reserva_Balcão                                   uint8\n",
              "reserva_com_observacoes_1 a 3                             uint8\n",
              "reserva_com_observacoes_Mais de 3                         uint8\n",
              "reserva_com_observacoes_Nenhuma                           uint8\n",
              "dtype: object"
            ]
          },
          "execution_count": 26,
          "metadata": {},
          "output_type": "execute_result"
        }
      ],
      "source": [
        "#Checking train data types\n",
        "df3.dtypes"
      ]
    },
    {
      "cell_type": "code",
      "execution_count": 27,
      "id": "52433c25-a0ce-46e9-a899-a8daf6c5ab7a",
      "metadata": {
        "colab": {
          "base_uri": "https://localhost:8080/"
        },
        "id": "52433c25-a0ce-46e9-a899-a8daf6c5ab7a",
        "outputId": "27946621-3213-4892-d39a-aa8f6bc4d891"
      },
      "outputs": [
        {
          "data": {
            "text/plain": [
              "id                                                        int64\n",
              "classificacao_do_hotel                                    int64\n",
              "meses_da_reserva_ate_o_check_in                           int64\n",
              "numero_de_pernoites_reservadas                            int64\n",
              "numero_de_hospedes                                      float64\n",
              "regime_de_alimentacao                                    object\n",
              "nacionalidade                                           float64\n",
              "forma_de_reserva                                         object\n",
              "ja_se_hospedou_anterioremente                             int64\n",
              "tipo_do_quarto_reservado                                 object\n",
              "reserva_feita_por_agencia_de_turismo                      int64\n",
              "reserva_feita_por_empresa                                 int64\n",
              "reserva_com_estacionamento                                int64\n",
              "reserva_com_observacoes                                  object\n",
              "latitude                                                float64\n",
              "longitude                                               float64\n",
              "tipo_do_quarto_reservado_encoded                        float64\n",
              "regime_de_alimentacao_Café da manha                       uint8\n",
              "regime_de_alimentacao_Café da manha e jantar              uint8\n",
              "regime_de_alimentacao_Café da manha, almoco e jantar      uint8\n",
              "regime_de_alimentacao_Sem refeicao                        uint8\n",
              "forma_de_reserva_Agência                                  uint8\n",
              "forma_de_reserva_B2B                                      uint8\n",
              "forma_de_reserva_Balcão                                   uint8\n",
              "reserva_com_observacoes_1 a 3                             uint8\n",
              "reserva_com_observacoes_Mais de 3                         uint8\n",
              "reserva_com_observacoes_Nenhuma                           uint8\n",
              "dtype: object"
            ]
          },
          "execution_count": 27,
          "metadata": {},
          "output_type": "execute_result"
        }
      ],
      "source": [
        "#Checking test data types\n",
        "df3_x.dtypes"
      ]
    },
    {
      "cell_type": "code",
      "execution_count": 28,
      "id": "2ad07dc1",
      "metadata": {
        "ExecuteTime": {
          "end_time": "2023-03-26T19:34:15.750678Z",
          "start_time": "2023-03-26T19:34:15.726702Z"
        },
        "colab": {
          "base_uri": "https://localhost:8080/",
          "height": 424
        },
        "id": "2ad07dc1",
        "outputId": "0bb5b5fb-aaf0-4d9b-c7c2-869ddb9534d7"
      },
      "outputs": [
        {
          "data": {
            "text/html": [
              "<div>\n",
              "<style scoped>\n",
              "    .dataframe tbody tr th:only-of-type {\n",
              "        vertical-align: middle;\n",
              "    }\n",
              "\n",
              "    .dataframe tbody tr th {\n",
              "        vertical-align: top;\n",
              "    }\n",
              "\n",
              "    .dataframe thead th {\n",
              "        text-align: right;\n",
              "    }\n",
              "</style>\n",
              "<table border=\"1\" class=\"dataframe\">\n",
              "  <thead>\n",
              "    <tr style=\"text-align: right;\">\n",
              "      <th></th>\n",
              "      <th>tipo_do_quarto_reservado</th>\n",
              "      <th>tipo_do_quarto_reservado_encoded</th>\n",
              "      <th>nacionalidade</th>\n",
              "      <th>latitude</th>\n",
              "      <th>longitude</th>\n",
              "    </tr>\n",
              "  </thead>\n",
              "  <tbody>\n",
              "    <tr>\n",
              "      <th>0</th>\n",
              "      <td>Amethyst</td>\n",
              "      <td>0.718447</td>\n",
              "      <td>0.087964</td>\n",
              "      <td>0.806824</td>\n",
              "      <td>0.038637</td>\n",
              "    </tr>\n",
              "    <tr>\n",
              "      <th>1</th>\n",
              "      <td>Amethyst</td>\n",
              "      <td>0.718447</td>\n",
              "      <td>0.481390</td>\n",
              "      <td>0.706224</td>\n",
              "      <td>-0.006544</td>\n",
              "    </tr>\n",
              "    <tr>\n",
              "      <th>2</th>\n",
              "      <td>Amethyst</td>\n",
              "      <td>0.718447</td>\n",
              "      <td>0.020601</td>\n",
              "      <td>0.881459</td>\n",
              "      <td>0.078015</td>\n",
              "    </tr>\n",
              "    <tr>\n",
              "      <th>3</th>\n",
              "      <td>Amethyst</td>\n",
              "      <td>0.718447</td>\n",
              "      <td>0.481390</td>\n",
              "      <td>0.706224</td>\n",
              "      <td>-0.006544</td>\n",
              "    </tr>\n",
              "    <tr>\n",
              "      <th>4</th>\n",
              "      <td>Amethyst</td>\n",
              "      <td>0.718447</td>\n",
              "      <td>0.481390</td>\n",
              "      <td>0.706224</td>\n",
              "      <td>-0.006544</td>\n",
              "    </tr>\n",
              "    <tr>\n",
              "      <th>...</th>\n",
              "      <td>...</td>\n",
              "      <td>...</td>\n",
              "      <td>...</td>\n",
              "      <td>...</td>\n",
              "      <td>...</td>\n",
              "    </tr>\n",
              "    <tr>\n",
              "      <th>72154</th>\n",
              "      <td>Green Emerald</td>\n",
              "      <td>0.163517</td>\n",
              "      <td>0.087964</td>\n",
              "      <td>0.806824</td>\n",
              "      <td>0.038637</td>\n",
              "    </tr>\n",
              "    <tr>\n",
              "      <th>72155</th>\n",
              "      <td>Amethyst</td>\n",
              "      <td>0.718447</td>\n",
              "      <td>0.031381</td>\n",
              "      <td>0.073080</td>\n",
              "      <td>0.021934</td>\n",
              "    </tr>\n",
              "    <tr>\n",
              "      <th>72156</th>\n",
              "      <td>Amethyst</td>\n",
              "      <td>0.718447</td>\n",
              "      <td>0.481390</td>\n",
              "      <td>0.706224</td>\n",
              "      <td>-0.006544</td>\n",
              "    </tr>\n",
              "    <tr>\n",
              "      <th>72157</th>\n",
              "      <td>Pink Sapphire</td>\n",
              "      <td>0.053628</td>\n",
              "      <td>0.481390</td>\n",
              "      <td>0.706224</td>\n",
              "      <td>-0.006544</td>\n",
              "    </tr>\n",
              "    <tr>\n",
              "      <th>72158</th>\n",
              "      <td>Pink Sapphire</td>\n",
              "      <td>0.053628</td>\n",
              "      <td>0.481390</td>\n",
              "      <td>0.706224</td>\n",
              "      <td>-0.006544</td>\n",
              "    </tr>\n",
              "  </tbody>\n",
              "</table>\n",
              "<p>71063 rows × 5 columns</p>\n",
              "</div>"
            ],
            "text/plain": [
              "      tipo_do_quarto_reservado  tipo_do_quarto_reservado_encoded  \\\n",
              "0                     Amethyst                          0.718447   \n",
              "1                     Amethyst                          0.718447   \n",
              "2                     Amethyst                          0.718447   \n",
              "3                     Amethyst                          0.718447   \n",
              "4                     Amethyst                          0.718447   \n",
              "...                        ...                               ...   \n",
              "72154            Green Emerald                          0.163517   \n",
              "72155                 Amethyst                          0.718447   \n",
              "72156                 Amethyst                          0.718447   \n",
              "72157            Pink Sapphire                          0.053628   \n",
              "72158            Pink Sapphire                          0.053628   \n",
              "\n",
              "       nacionalidade  latitude  longitude  \n",
              "0           0.087964  0.806824   0.038637  \n",
              "1           0.481390  0.706224  -0.006544  \n",
              "2           0.020601  0.881459   0.078015  \n",
              "3           0.481390  0.706224  -0.006544  \n",
              "4           0.481390  0.706224  -0.006544  \n",
              "...              ...       ...        ...  \n",
              "72154       0.087964  0.806824   0.038637  \n",
              "72155       0.031381  0.073080   0.021934  \n",
              "72156       0.481390  0.706224  -0.006544  \n",
              "72157       0.481390  0.706224  -0.006544  \n",
              "72158       0.481390  0.706224  -0.006544  \n",
              "\n",
              "[71063 rows x 5 columns]"
            ]
          },
          "execution_count": 28,
          "metadata": {},
          "output_type": "execute_result"
        }
      ],
      "source": [
        "#Checking train data optimized\n",
        "df3[['tipo_do_quarto_reservado', 'tipo_do_quarto_reservado_encoded', 'nacionalidade', 'latitude', 'longitude']]"
      ]
    },
    {
      "cell_type": "code",
      "execution_count": 29,
      "id": "91b97947-5c76-4f8e-9d21-c98084cc1f59",
      "metadata": {
        "colab": {
          "base_uri": "https://localhost:8080/",
          "height": 424
        },
        "id": "91b97947-5c76-4f8e-9d21-c98084cc1f59",
        "outputId": "b8ee4f1a-093d-4c1e-bef5-1379e8634204"
      },
      "outputs": [
        {
          "data": {
            "text/html": [
              "<div>\n",
              "<style scoped>\n",
              "    .dataframe tbody tr th:only-of-type {\n",
              "        vertical-align: middle;\n",
              "    }\n",
              "\n",
              "    .dataframe tbody tr th {\n",
              "        vertical-align: top;\n",
              "    }\n",
              "\n",
              "    .dataframe thead th {\n",
              "        text-align: right;\n",
              "    }\n",
              "</style>\n",
              "<table border=\"1\" class=\"dataframe\">\n",
              "  <thead>\n",
              "    <tr style=\"text-align: right;\">\n",
              "      <th></th>\n",
              "      <th>tipo_do_quarto_reservado</th>\n",
              "      <th>tipo_do_quarto_reservado_encoded</th>\n",
              "      <th>nacionalidade</th>\n",
              "      <th>latitude</th>\n",
              "      <th>longitude</th>\n",
              "    </tr>\n",
              "  </thead>\n",
              "  <tbody>\n",
              "    <tr>\n",
              "      <th>0</th>\n",
              "      <td>Green Emerald</td>\n",
              "      <td>0.157964</td>\n",
              "      <td>0.000873</td>\n",
              "      <td>0.626709</td>\n",
              "      <td>2.229953</td>\n",
              "    </tr>\n",
              "    <tr>\n",
              "      <th>1</th>\n",
              "      <td>Pink Sapphire</td>\n",
              "      <td>0.054920</td>\n",
              "      <td>0.018023</td>\n",
              "      <td>0.064735</td>\n",
              "      <td>-1.670505</td>\n",
              "    </tr>\n",
              "    <tr>\n",
              "      <th>2</th>\n",
              "      <td>Amethyst</td>\n",
              "      <td>0.723008</td>\n",
              "      <td>0.101068</td>\n",
              "      <td>0.966529</td>\n",
              "      <td>-0.059969</td>\n",
              "    </tr>\n",
              "    <tr>\n",
              "      <th>3</th>\n",
              "      <td>Amethyst</td>\n",
              "      <td>0.723008</td>\n",
              "      <td>0.491061</td>\n",
              "      <td>0.706224</td>\n",
              "      <td>-0.006544</td>\n",
              "    </tr>\n",
              "    <tr>\n",
              "      <th>4</th>\n",
              "      <td>Amethyst</td>\n",
              "      <td>0.723008</td>\n",
              "      <td>0.031929</td>\n",
              "      <td>0.073080</td>\n",
              "      <td>0.021934</td>\n",
              "    </tr>\n",
              "    <tr>\n",
              "      <th>...</th>\n",
              "      <td>...</td>\n",
              "      <td>...</td>\n",
              "      <td>...</td>\n",
              "      <td>...</td>\n",
              "      <td>...</td>\n",
              "    </tr>\n",
              "    <tr>\n",
              "      <th>48101</th>\n",
              "      <td>Green Emerald</td>\n",
              "      <td>0.157964</td>\n",
              "      <td>0.101068</td>\n",
              "      <td>0.966529</td>\n",
              "      <td>-0.059969</td>\n",
              "    </tr>\n",
              "    <tr>\n",
              "      <th>48102</th>\n",
              "      <td>Amethyst</td>\n",
              "      <td>0.723008</td>\n",
              "      <td>0.018251</td>\n",
              "      <td>0.881459</td>\n",
              "      <td>0.078015</td>\n",
              "    </tr>\n",
              "    <tr>\n",
              "      <th>48103</th>\n",
              "      <td>Tanzanite</td>\n",
              "      <td>0.023760</td>\n",
              "      <td>0.060159</td>\n",
              "      <td>0.893010</td>\n",
              "      <td>0.182414</td>\n",
              "    </tr>\n",
              "    <tr>\n",
              "      <th>48104</th>\n",
              "      <td>Amethyst</td>\n",
              "      <td>0.723008</td>\n",
              "      <td>0.491061</td>\n",
              "      <td>0.706224</td>\n",
              "      <td>-0.006544</td>\n",
              "    </tr>\n",
              "    <tr>\n",
              "      <th>48105</th>\n",
              "      <td>Amethyst</td>\n",
              "      <td>0.723008</td>\n",
              "      <td>0.491061</td>\n",
              "      <td>0.706224</td>\n",
              "      <td>-0.006544</td>\n",
              "    </tr>\n",
              "  </tbody>\n",
              "</table>\n",
              "<p>48106 rows × 5 columns</p>\n",
              "</div>"
            ],
            "text/plain": [
              "      tipo_do_quarto_reservado  tipo_do_quarto_reservado_encoded  \\\n",
              "0                Green Emerald                          0.157964   \n",
              "1                Pink Sapphire                          0.054920   \n",
              "2                     Amethyst                          0.723008   \n",
              "3                     Amethyst                          0.723008   \n",
              "4                     Amethyst                          0.723008   \n",
              "...                        ...                               ...   \n",
              "48101            Green Emerald                          0.157964   \n",
              "48102                 Amethyst                          0.723008   \n",
              "48103                Tanzanite                          0.023760   \n",
              "48104                 Amethyst                          0.723008   \n",
              "48105                 Amethyst                          0.723008   \n",
              "\n",
              "       nacionalidade  latitude  longitude  \n",
              "0           0.000873  0.626709   2.229953  \n",
              "1           0.018023  0.064735  -1.670505  \n",
              "2           0.101068  0.966529  -0.059969  \n",
              "3           0.491061  0.706224  -0.006544  \n",
              "4           0.031929  0.073080   0.021934  \n",
              "...              ...       ...        ...  \n",
              "48101       0.101068  0.966529  -0.059969  \n",
              "48102       0.018251  0.881459   0.078015  \n",
              "48103       0.060159  0.893010   0.182414  \n",
              "48104       0.491061  0.706224  -0.006544  \n",
              "48105       0.491061  0.706224  -0.006544  \n",
              "\n",
              "[48106 rows x 5 columns]"
            ]
          },
          "execution_count": 29,
          "metadata": {},
          "output_type": "execute_result"
        }
      ],
      "source": [
        "#Checking test data optimized\n",
        "df3_x[['tipo_do_quarto_reservado', 'tipo_do_quarto_reservado_encoded', 'nacionalidade', 'latitude', 'longitude']]"
      ]
    },
    {
      "attachments": {},
      "cell_type": "markdown",
      "id": "c8e990a1",
      "metadata": {
        "id": "c8e990a1"
      },
      "source": [
        "# 5.0. Feature Selection "
      ]
    },
    {
      "cell_type": "code",
      "execution_count": 30,
      "id": "41d5f490",
      "metadata": {
        "ExecuteTime": {
          "end_time": "2023-03-26T19:34:15.814491Z",
          "start_time": "2023-03-26T19:34:15.754941Z"
        },
        "id": "41d5f490"
      },
      "outputs": [],
      "source": [
        "#Dataframe copy for feature selection\n",
        "df4 = df3.copy()\n",
        "df4_x = df3_x.copy()"
      ]
    },
    {
      "cell_type": "code",
      "execution_count": 31,
      "id": "9a8ba1ba-d68a-4569-8fab-0a6a69429fa1",
      "metadata": {
        "id": "9a8ba1ba-d68a-4569-8fab-0a6a69429fa1"
      },
      "outputs": [],
      "source": [
        "#Applying data types adjustment functions\n",
        "df4 = types_adjust(df4)\n",
        "df4_x = types_adjust(df4_x)"
      ]
    },
    {
      "cell_type": "code",
      "execution_count": 32,
      "id": "4c20ef5c-79f2-4655-b796-c7de25862b8e",
      "metadata": {
        "colab": {
          "base_uri": "https://localhost:8080/"
        },
        "id": "4c20ef5c-79f2-4655-b796-c7de25862b8e",
        "outputId": "462c0663-ca48-4a76-d29e-3098b990c395"
      },
      "outputs": [
        {
          "data": {
            "text/plain": [
              "id                                                        int64\n",
              "classificacao_do_hotel                                    int64\n",
              "meses_da_reserva_ate_o_check_in                           int64\n",
              "numero_de_pernoites_reservadas                            int64\n",
              "numero_de_hospedes                                        int64\n",
              "regime_de_alimentacao                                    object\n",
              "nacionalidade                                           float64\n",
              "forma_de_reserva                                         object\n",
              "ja_se_hospedou_anterioremente                             int64\n",
              "tipo_do_quarto_reservado                                 object\n",
              "reserva_feita_por_agencia_de_turismo                      int64\n",
              "reserva_feita_por_empresa                                 int64\n",
              "reserva_com_estacionamento                                int64\n",
              "reserva_com_observacoes                                  object\n",
              "reserva_cancelada                                         int64\n",
              "latitude                                                float64\n",
              "longitude                                               float64\n",
              "tipo_do_quarto_reservado_encoded                        float64\n",
              "regime_de_alimentacao_Café da manha                       uint8\n",
              "regime_de_alimentacao_Café da manha e jantar              uint8\n",
              "regime_de_alimentacao_Café da manha, almoco e jantar      uint8\n",
              "regime_de_alimentacao_Sem refeicao                        uint8\n",
              "forma_de_reserva_Agência                                  uint8\n",
              "forma_de_reserva_B2B                                      uint8\n",
              "forma_de_reserva_Balcão                                   uint8\n",
              "reserva_com_observacoes_1 a 3                             uint8\n",
              "reserva_com_observacoes_Mais de 3                         uint8\n",
              "reserva_com_observacoes_Nenhuma                           uint8\n",
              "dtype: object"
            ]
          },
          "execution_count": 32,
          "metadata": {},
          "output_type": "execute_result"
        }
      ],
      "source": [
        "#Checking train data\n",
        "df4.dtypes"
      ]
    },
    {
      "cell_type": "code",
      "execution_count": 33,
      "id": "d50e4978-5f23-4e19-adb7-a5870ec09ca2",
      "metadata": {
        "colab": {
          "base_uri": "https://localhost:8080/"
        },
        "id": "d50e4978-5f23-4e19-adb7-a5870ec09ca2",
        "outputId": "70db8dc4-89e8-47be-ac8e-b89ecc3c7155"
      },
      "outputs": [
        {
          "data": {
            "text/plain": [
              "id                                                        int64\n",
              "classificacao_do_hotel                                    int64\n",
              "meses_da_reserva_ate_o_check_in                           int64\n",
              "numero_de_pernoites_reservadas                            int64\n",
              "numero_de_hospedes                                        int64\n",
              "regime_de_alimentacao                                    object\n",
              "nacionalidade                                           float64\n",
              "forma_de_reserva                                         object\n",
              "ja_se_hospedou_anterioremente                             int64\n",
              "tipo_do_quarto_reservado                                 object\n",
              "reserva_feita_por_agencia_de_turismo                      int64\n",
              "reserva_feita_por_empresa                                 int64\n",
              "reserva_com_estacionamento                                int64\n",
              "reserva_com_observacoes                                  object\n",
              "latitude                                                float64\n",
              "longitude                                               float64\n",
              "tipo_do_quarto_reservado_encoded                        float64\n",
              "regime_de_alimentacao_Café da manha                       uint8\n",
              "regime_de_alimentacao_Café da manha e jantar              uint8\n",
              "regime_de_alimentacao_Café da manha, almoco e jantar      uint8\n",
              "regime_de_alimentacao_Sem refeicao                        uint8\n",
              "forma_de_reserva_Agência                                  uint8\n",
              "forma_de_reserva_B2B                                      uint8\n",
              "forma_de_reserva_Balcão                                   uint8\n",
              "reserva_com_observacoes_1 a 3                             uint8\n",
              "reserva_com_observacoes_Mais de 3                         uint8\n",
              "reserva_com_observacoes_Nenhuma                           uint8\n",
              "dtype: object"
            ]
          },
          "execution_count": 33,
          "metadata": {},
          "output_type": "execute_result"
        }
      ],
      "source": [
        "#Checking test data\n",
        "df4_x.dtypes"
      ]
    },
    {
      "cell_type": "code",
      "execution_count": 34,
      "id": "b7d3b67a",
      "metadata": {
        "ExecuteTime": {
          "end_time": "2023-03-26T19:34:16.025014Z",
          "start_time": "2023-03-26T19:34:15.920602Z"
        },
        "id": "b7d3b67a",
        "tags": []
      },
      "outputs": [],
      "source": [
        "#Drop columns from dataframe\n",
        "cols_drop =['regime_de_alimentacao', 'forma_de_reserva', 'reserva_com_observacoes', 'tipo_do_quarto_reservado']\n",
        "df5 = df4.drop(cols_drop, axis=1)\n",
        "df5_x = df4_x.drop(cols_drop, axis=1)"
      ]
    },
    {
      "cell_type": "code",
      "execution_count": 35,
      "id": "b313558f-9c25-42ef-90b0-4fa8e6085c38",
      "metadata": {
        "colab": {
          "base_uri": "https://localhost:8080/"
        },
        "id": "b313558f-9c25-42ef-90b0-4fa8e6085c38",
        "outputId": "2f82f4bc-5b9f-471b-d173-a03dcf013695"
      },
      "outputs": [
        {
          "data": {
            "text/plain": [
              "id                                                        int64\n",
              "classificacao_do_hotel                                    int64\n",
              "meses_da_reserva_ate_o_check_in                           int64\n",
              "numero_de_pernoites_reservadas                            int64\n",
              "numero_de_hospedes                                        int64\n",
              "nacionalidade                                           float64\n",
              "ja_se_hospedou_anterioremente                             int64\n",
              "reserva_feita_por_agencia_de_turismo                      int64\n",
              "reserva_feita_por_empresa                                 int64\n",
              "reserva_com_estacionamento                                int64\n",
              "reserva_cancelada                                         int64\n",
              "latitude                                                float64\n",
              "longitude                                               float64\n",
              "tipo_do_quarto_reservado_encoded                        float64\n",
              "regime_de_alimentacao_Café da manha                       uint8\n",
              "regime_de_alimentacao_Café da manha e jantar              uint8\n",
              "regime_de_alimentacao_Café da manha, almoco e jantar      uint8\n",
              "regime_de_alimentacao_Sem refeicao                        uint8\n",
              "forma_de_reserva_Agência                                  uint8\n",
              "forma_de_reserva_B2B                                      uint8\n",
              "forma_de_reserva_Balcão                                   uint8\n",
              "reserva_com_observacoes_1 a 3                             uint8\n",
              "reserva_com_observacoes_Mais de 3                         uint8\n",
              "reserva_com_observacoes_Nenhuma                           uint8\n",
              "dtype: object"
            ]
          },
          "execution_count": 35,
          "metadata": {},
          "output_type": "execute_result"
        }
      ],
      "source": [
        "#Checking train data types for Machine Learning Application\n",
        "df5.dtypes"
      ]
    },
    {
      "cell_type": "code",
      "execution_count": 36,
      "id": "250a15d2-9999-47cd-ac8a-f2bf8b3e7d73",
      "metadata": {
        "colab": {
          "base_uri": "https://localhost:8080/"
        },
        "id": "250a15d2-9999-47cd-ac8a-f2bf8b3e7d73",
        "outputId": "ea59d32a-64ab-48d3-f559-f89dd7f65811"
      },
      "outputs": [
        {
          "data": {
            "text/plain": [
              "id                                                        int64\n",
              "classificacao_do_hotel                                    int64\n",
              "meses_da_reserva_ate_o_check_in                           int64\n",
              "numero_de_pernoites_reservadas                            int64\n",
              "numero_de_hospedes                                        int64\n",
              "nacionalidade                                           float64\n",
              "ja_se_hospedou_anterioremente                             int64\n",
              "reserva_feita_por_agencia_de_turismo                      int64\n",
              "reserva_feita_por_empresa                                 int64\n",
              "reserva_com_estacionamento                                int64\n",
              "latitude                                                float64\n",
              "longitude                                               float64\n",
              "tipo_do_quarto_reservado_encoded                        float64\n",
              "regime_de_alimentacao_Café da manha                       uint8\n",
              "regime_de_alimentacao_Café da manha e jantar              uint8\n",
              "regime_de_alimentacao_Café da manha, almoco e jantar      uint8\n",
              "regime_de_alimentacao_Sem refeicao                        uint8\n",
              "forma_de_reserva_Agência                                  uint8\n",
              "forma_de_reserva_B2B                                      uint8\n",
              "forma_de_reserva_Balcão                                   uint8\n",
              "reserva_com_observacoes_1 a 3                             uint8\n",
              "reserva_com_observacoes_Mais de 3                         uint8\n",
              "reserva_com_observacoes_Nenhuma                           uint8\n",
              "dtype: object"
            ]
          },
          "execution_count": 36,
          "metadata": {},
          "output_type": "execute_result"
        }
      ],
      "source": [
        "#Checking test data types for Machine Learning Application\n",
        "df5_x.dtypes"
      ]
    },
    {
      "cell_type": "code",
      "execution_count": 37,
      "id": "9bb85855",
      "metadata": {
        "ExecuteTime": {
          "end_time": "2023-03-26T19:34:16.290880Z",
          "start_time": "2023-03-26T19:34:16.027428Z"
        },
        "id": "9bb85855"
      },
      "outputs": [],
      "source": [
        "#Split train dataset into features and target\n",
        "#X = df5.drop(['id', 'reserva_cancelada'], axis=1)\n",
        "X = df5.drop(['reserva_cancelada'], axis=1)\n",
        "y = df5['reserva_cancelada']"
      ]
    },
    {
      "cell_type": "code",
      "execution_count": 38,
      "id": "a2f86b46",
      "metadata": {
        "ExecuteTime": {
          "end_time": "2023-03-26T19:34:16.382668Z",
          "start_time": "2023-03-26T19:34:16.293365Z"
        },
        "id": "a2f86b46"
      },
      "outputs": [],
      "source": [
        "#Split train dataset into train and test\n",
        "X_train, X_val, y_train, y_val = ms.train_test_split(X, y, test_size=0.2)"
      ]
    },
    {
      "attachments": {},
      "cell_type": "markdown",
      "id": "47cadf95",
      "metadata": {
        "id": "47cadf95"
      },
      "source": [
        "# 6.0. Machine Learning Model"
      ]
    },
    {
      "attachments": {},
      "cell_type": "markdown",
      "id": "521815db",
      "metadata": {
        "id": "521815db"
      },
      "source": [
        "## 6.1. XGBoost"
      ]
    },
    {
      "cell_type": "code",
      "execution_count": 39,
      "id": "27aa76ae",
      "metadata": {
        "ExecuteTime": {
          "end_time": "2023-03-26T19:55:33.048966Z",
          "start_time": "2023-03-26T19:48:31.394760Z"
        },
        "id": "27aa76ae"
      },
      "outputs": [],
      "source": [
        "#Model Definition\n",
        "xgb_model = XGBClassifier(n_estimators=1000, max_depth=20, min_child_weight=1)\n",
        "\n",
        "#Model Training\n",
        "xgb_model.fit(X_train, y_train.values.ravel())\n",
        "\n",
        "#Model Prediction\n",
        "yhat_xgb = xgb_model.predict(X_val)"
      ]
    },
    {
      "cell_type": "code",
      "execution_count": 40,
      "id": "cfeee750",
      "metadata": {
        "ExecuteTime": {
          "end_time": "2023-03-26T19:55:33.147255Z",
          "start_time": "2023-03-26T19:55:33.052031Z"
        },
        "id": "cfeee750"
      },
      "outputs": [],
      "source": [
        "#Export the model pkl for test data application\n",
        "#pickle.dump(xgb_model, open('xgb_model.pkl', 'wb' ))"
      ]
    },
    {
      "attachments": {},
      "cell_type": "markdown",
      "id": "1c0e6c6c",
      "metadata": {
        "id": "1c0e6c6c"
      },
      "source": [
        "### 6.1.1. Performance"
      ]
    },
    {
      "cell_type": "code",
      "execution_count": 41,
      "id": "c1778da7",
      "metadata": {
        "ExecuteTime": {
          "end_time": "2023-03-26T19:55:33.364412Z",
          "start_time": "2023-03-26T19:55:33.151009Z"
        },
        "id": "c1778da7"
      },
      "outputs": [],
      "source": [
        "#Show metrics of performance\n",
        "precision = mt.precision_score(y_val, yhat_xgb)\n",
        "recall = mt.recall_score(y_val, yhat_xgb)\n",
        "f1_score = mt.f1_score(y_val, yhat_xgb, average='macro')"
      ]
    },
    {
      "cell_type": "code",
      "execution_count": 42,
      "id": "cc3566ef",
      "metadata": {
        "ExecuteTime": {
          "end_time": "2023-03-26T19:55:33.461488Z",
          "start_time": "2023-03-26T19:55:33.370661Z"
        },
        "colab": {
          "base_uri": "https://localhost:8080/"
        },
        "id": "cc3566ef",
        "outputId": "7a5538bd-a7f1-43c5-d6e2-c6d96e145a83"
      },
      "outputs": [
        {
          "name": "stdout",
          "output_type": "stream",
          "text": [
            "Precision: 0.96665\n",
            "Recall: 0.95970\n",
            "F1 Score: 0.97074\n"
          ]
        }
      ],
      "source": [
        "print('Precision: {:.5f}'.format(precision))\n",
        "print('Recall: {:.5f}'.format(recall))\n",
        "print('F1 Score: {:.5f}'.format(f1_score))"
      ]
    },
    {
      "attachments": {},
      "cell_type": "markdown",
      "id": "1c9f704d",
      "metadata": {
        "id": "1c9f704d"
      },
      "source": [
        "## 6.2. Gradient Boosting"
      ]
    },
    {
      "cell_type": "code",
      "execution_count": 43,
      "id": "5596ff9c",
      "metadata": {
        "ExecuteTime": {
          "end_time": "2023-03-26T19:40:47.150149Z",
          "start_time": "2023-03-26T19:36:05.230416Z"
        },
        "id": "5596ff9c"
      },
      "outputs": [],
      "source": [
        "#Model Definition\n",
        "gdr_model = en.GradientBoostingClassifier(n_estimators=500, random_state=42, max_depth=15)\n",
        "\n",
        "#Model Training\n",
        "gdr_model.fit(X_train, y_train)\n",
        "\n",
        "#Model Prediction\n",
        "yhat_gb = gdr_model.predict(X_val)"
      ]
    },
    {
      "cell_type": "code",
      "execution_count": 44,
      "id": "2f913f19",
      "metadata": {
        "ExecuteTime": {
          "end_time": "2023-03-26T19:40:47.404075Z",
          "start_time": "2023-03-26T19:40:47.154516Z"
        },
        "id": "2f913f19"
      },
      "outputs": [],
      "source": [
        "#Export the model pkl for test data application\n",
        "#pickle.dump(gdr_model, open('gdr_model.pkl', 'wb' ))"
      ]
    },
    {
      "attachments": {},
      "cell_type": "markdown",
      "id": "1d2b55b0",
      "metadata": {
        "id": "1d2b55b0"
      },
      "source": [
        "### 6.2.1. Performance"
      ]
    },
    {
      "cell_type": "code",
      "execution_count": 45,
      "id": "f944d3f7",
      "metadata": {
        "ExecuteTime": {
          "end_time": "2023-03-26T19:40:47.454725Z",
          "start_time": "2023-03-26T19:40:47.407358Z"
        },
        "id": "f944d3f7"
      },
      "outputs": [],
      "source": [
        "#Show metrics of performance\n",
        "precision = mt.precision_score(y_val, yhat_gb)\n",
        "recall = mt.recall_score(y_val, yhat_gb)\n",
        "f1_score = mt.f1_score(y_val, yhat_gb, average='macro')"
      ]
    },
    {
      "cell_type": "code",
      "execution_count": 46,
      "id": "b16961ee",
      "metadata": {
        "ExecuteTime": {
          "end_time": "2023-03-26T19:40:47.538833Z",
          "start_time": "2023-03-26T19:40:47.460848Z"
        },
        "colab": {
          "base_uri": "https://localhost:8080/"
        },
        "id": "b16961ee",
        "outputId": "64b1b3c0-516b-4846-b4cf-11066ef4d6e6"
      },
      "outputs": [
        {
          "name": "stdout",
          "output_type": "stream",
          "text": [
            "Precision: 0.96589\n",
            "Recall: 0.95894\n",
            "F1 Score: 0.97013\n"
          ]
        }
      ],
      "source": [
        "print('Precision: {:.5f}'.format(precision))\n",
        "print('Recall: {:.5f}'.format(recall))\n",
        "print('F1 Score: {:.5f}'.format(f1_score))"
      ]
    },
    {
      "attachments": {},
      "cell_type": "markdown",
      "id": "19ac4180",
      "metadata": {
        "id": "19ac4180"
      },
      "source": [
        "## 6.3. Random Forest"
      ]
    },
    {
      "cell_type": "code",
      "execution_count": 47,
      "id": "fe0e74b2",
      "metadata": {
        "ExecuteTime": {
          "end_time": "2023-03-26T19:56:12.321257Z",
          "start_time": "2023-03-26T19:55:33.465422Z"
        },
        "id": "fe0e74b2"
      },
      "outputs": [],
      "source": [
        "#Model Definition\n",
        "rf_model = en.RandomForestClassifier(n_estimators=1000,\n",
        "                                     criterion='gini', \n",
        "                                     random_state=42, \n",
        "                                     n_jobs=-1, \n",
        "                                     max_depth=25)\n",
        "\n",
        "#Model Training\n",
        "rf_model.fit(X_train, y_train)\n",
        "\n",
        "#Model Prediction\n",
        "yhat_rf = rf_model.predict(X_val)"
      ]
    },
    {
      "cell_type": "code",
      "execution_count": 48,
      "id": "bbebd841",
      "metadata": {
        "ExecuteTime": {
          "end_time": "2023-03-26T19:56:21.872444Z",
          "start_time": "2023-03-26T19:56:12.324342Z"
        },
        "id": "bbebd841"
      },
      "outputs": [],
      "source": [
        "#Export the model pkl for test data application\n",
        "#pickle.dump(rf_model, open('rf_model.pkl', 'wb' ))"
      ]
    },
    {
      "attachments": {},
      "cell_type": "markdown",
      "id": "30a62536",
      "metadata": {
        "id": "30a62536"
      },
      "source": [
        "### 6.3.1. Performance"
      ]
    },
    {
      "cell_type": "code",
      "execution_count": 49,
      "id": "cead0a0e",
      "metadata": {
        "ExecuteTime": {
          "end_time": "2023-03-26T19:56:21.910333Z",
          "start_time": "2023-03-26T19:56:21.875098Z"
        },
        "id": "cead0a0e"
      },
      "outputs": [],
      "source": [
        "#Show metrics of performance\n",
        "precision = mt.precision_score(y_val, yhat_rf)\n",
        "recall = mt.recall_score(y_val, yhat_rf)\n",
        "f1_score = mt.f1_score(y_val, yhat_rf, average='macro')"
      ]
    },
    {
      "cell_type": "code",
      "execution_count": 50,
      "id": "1e1415d0",
      "metadata": {
        "ExecuteTime": {
          "end_time": "2023-03-26T19:56:22.612637Z",
          "start_time": "2023-03-26T19:56:21.913743Z"
        },
        "colab": {
          "base_uri": "https://localhost:8080/"
        },
        "id": "1e1415d0",
        "outputId": "2f061c98-7e08-4390-b1e6-92975266e695"
      },
      "outputs": [
        {
          "name": "stdout",
          "output_type": "stream",
          "text": [
            "Precision: 0.96229\n",
            "Recall: 0.96083\n",
            "F1 Score: 0.96942\n"
          ]
        }
      ],
      "source": [
        "print('Precision: {:.5f}'.format(precision))\n",
        "print('Recall: {:.5f}'.format(recall))\n",
        "print('F1 Score: {:.5f}'.format(f1_score))"
      ]
    },
    {
      "attachments": {},
      "cell_type": "markdown",
      "id": "79576f2b",
      "metadata": {
        "ExecuteTime": {
          "end_time": "2023-03-25T15:27:20.978363Z",
          "start_time": "2023-03-25T15:27:20.975764Z"
        },
        "id": "79576f2b"
      },
      "source": [
        "# 7.0. Ensemble"
      ]
    },
    {
      "cell_type": "code",
      "execution_count": 51,
      "id": "97ed0e7e",
      "metadata": {
        "ExecuteTime": {
          "end_time": "2023-03-26T19:56:23.271176Z",
          "start_time": "2023-03-26T19:56:22.617835Z"
        },
        "id": "97ed0e7e"
      },
      "outputs": [],
      "source": [
        "#Merge data to compare\n",
        "ensemble = pd.DataFrame([yhat_xgb, yhat_gb, yhat_rf]).T\n",
        "ensemble.columns = ['yhat_xgb', 'yhat_gb', 'yhat_rf']\n",
        "moda = ensemble.mode(axis=1)[0]\n",
        "ensemble['pred'] = moda"
      ]
    },
    {
      "attachments": {},
      "cell_type": "markdown",
      "id": "d6f32f40",
      "metadata": {
        "id": "d6f32f40"
      },
      "source": [
        "# 8.0. General Performance"
      ]
    },
    {
      "cell_type": "code",
      "execution_count": 52,
      "id": "fd4872b4",
      "metadata": {
        "ExecuteTime": {
          "end_time": "2023-03-26T19:56:27.597946Z",
          "start_time": "2023-03-26T19:56:27.592826Z"
        },
        "id": "fd4872b4"
      },
      "outputs": [],
      "source": [
        "#Collect values for test performance\n",
        "yhat_en = ensemble['pred']"
      ]
    },
    {
      "cell_type": "code",
      "execution_count": 53,
      "id": "3af89cfb",
      "metadata": {
        "ExecuteTime": {
          "end_time": "2023-03-26T19:56:27.794406Z",
          "start_time": "2023-03-26T19:56:27.601677Z"
        },
        "id": "3af89cfb"
      },
      "outputs": [],
      "source": [
        "#Show metrics of performance\n",
        "precision = mt.precision_score(y_val, yhat_en)\n",
        "recall = mt.recall_score(y_val, yhat_en)\n",
        "f1_score = mt.f1_score(y_val, yhat_en, average='macro')"
      ]
    },
    {
      "cell_type": "code",
      "execution_count": 54,
      "id": "e3d13f86",
      "metadata": {
        "ExecuteTime": {
          "end_time": "2023-03-26T19:56:27.925351Z",
          "start_time": "2023-03-26T19:56:27.796761Z"
        },
        "colab": {
          "base_uri": "https://localhost:8080/"
        },
        "id": "e3d13f86",
        "outputId": "0feb39a0-5516-4e40-fea4-bf8aa376b9d4"
      },
      "outputs": [
        {
          "name": "stdout",
          "output_type": "stream",
          "text": [
            "Precision: 0.96774\n",
            "Recall: 0.95913\n",
            "F1 Score: 0.97095\n"
          ]
        }
      ],
      "source": [
        "print('Precision: {:.5f}'.format(precision))\n",
        "print('Recall: {:.5f}'.format(recall))\n",
        "print('F1 Score: {:.5f}'.format(f1_score))"
      ]
    },
    {
      "attachments": {},
      "cell_type": "markdown",
      "id": "2725a6bc-b1c1-4068-a2eb-4b5f5744dcc3",
      "metadata": {
        "id": "2725a6bc-b1c1-4068-a2eb-4b5f5744dcc3"
      },
      "source": [
        "# 9.0. Model Application to Test Data"
      ]
    },
    {
      "cell_type": "code",
      "execution_count": 55,
      "id": "217efbf0-6601-4cc0-8736-c9255c318cc1",
      "metadata": {
        "id": "217efbf0-6601-4cc0-8736-c9255c318cc1"
      },
      "outputs": [],
      "source": [
        "#XGBoost application to test data\n",
        "yhat_xbg_x = xgb_model.predict(df5_x)\n",
        "\n",
        "#Gradient Boosting application to test data\n",
        "yhat_gb_x = gdr_model.predict(df5_x)\n",
        "\n",
        "#Random Forest application to test data\n",
        "yhat_rf_x = rf_model.predict(df5_x)"
      ]
    },
    {
      "attachments": {},
      "cell_type": "markdown",
      "id": "ecd9118f-4038-49f9-9782-2f74c15acb20",
      "metadata": {
        "id": "ecd9118f-4038-49f9-9782-2f74c15acb20"
      },
      "source": [
        "# 10.0. Export CSV"
      ]
    },
    {
      "cell_type": "code",
      "execution_count": 56,
      "id": "a4defb65-f65d-4cc5-a4f4-fdfc3ef13abf",
      "metadata": {
        "id": "a4defb65-f65d-4cc5-a4f4-fdfc3ef13abf"
      },
      "outputs": [],
      "source": [
        "#Merge data to compare\n",
        "ensemble = pd.DataFrame([yhat_xbg_x, yhat_gb_x, yhat_rf_x]).T\n",
        "ensemble.columns = ['yhat_xgb', 'yhat_gb', 'yhat_rf']\n",
        "moda_x = ensemble.mode(axis=1)[0]\n",
        "ensemble['pred'] = moda_x"
      ]
    },
    {
      "cell_type": "code",
      "execution_count": 57,
      "id": "15886b07-174d-49bf-adea-ae1d22fe5f7b",
      "metadata": {
        "id": "15886b07-174d-49bf-adea-ae1d22fe5f7b"
      },
      "outputs": [],
      "source": [
        "#Prepare data to export\n",
        "yhat_final = ensemble['pred']\n",
        "df2_x['Reserva Cancelada'] = yhat_final\n",
        "submission = df2_x[['id', 'Reserva Cancelada']].copy()"
      ]
    },
    {
      "cell_type": "code",
      "execution_count": 58,
      "id": "c74a3114-7c99-421a-97cc-69a2a0409265",
      "metadata": {
        "id": "c74a3114-7c99-421a-97cc-69a2a0409265"
      },
      "outputs": [],
      "source": [
        "#Export data\n",
        "submission.to_csv('data/submission.csv', index=False)"
      ]
    }
  ],
  "metadata": {
    "colab": {
      "provenance": []
    },
    "kernelspec": {
      "display_name": "Python 3 (ipykernel)",
      "language": "python",
      "name": "python3"
    },
    "language_info": {
      "codemirror_mode": {
        "name": "ipython",
        "version": 3
      },
      "file_extension": ".py",
      "mimetype": "text/x-python",
      "name": "python",
      "nbconvert_exporter": "python",
      "pygments_lexer": "ipython3",
      "version": "3.10.9"
    },
    "widgets": {
      "application/vnd.jupyter.widget-state+json": {
        "05b4971fd67e4f50892244f085caba24": {
          "model_module": "@jupyter-widgets/controls",
          "model_module_version": "1.5.0",
          "model_name": "HTMLModel",
          "state": {
            "_dom_classes": [],
            "_model_module": "@jupyter-widgets/controls",
            "_model_module_version": "1.5.0",
            "_model_name": "HTMLModel",
            "_view_count": null,
            "_view_module": "@jupyter-widgets/controls",
            "_view_module_version": "1.5.0",
            "_view_name": "HTMLView",
            "description": "",
            "description_tooltip": null,
            "layout": "IPY_MODEL_12575290a2924a4cb0ef02258c6d5647",
            "placeholder": "​",
            "style": "IPY_MODEL_256f0d883c26458c8b493a7992b35733",
            "value": "Render HTML: 100%"
          }
        },
        "0a5cd38591514c3a8407ea9d467ad3e2": {
          "model_module": "@jupyter-widgets/controls",
          "model_module_version": "1.5.0",
          "model_name": "DescriptionStyleModel",
          "state": {
            "_model_module": "@jupyter-widgets/controls",
            "_model_module_version": "1.5.0",
            "_model_name": "DescriptionStyleModel",
            "_view_count": null,
            "_view_module": "@jupyter-widgets/base",
            "_view_module_version": "1.2.0",
            "_view_name": "StyleView",
            "description_width": ""
          }
        },
        "12575290a2924a4cb0ef02258c6d5647": {
          "model_module": "@jupyter-widgets/base",
          "model_module_version": "1.2.0",
          "model_name": "LayoutModel",
          "state": {
            "_model_module": "@jupyter-widgets/base",
            "_model_module_version": "1.2.0",
            "_model_name": "LayoutModel",
            "_view_count": null,
            "_view_module": "@jupyter-widgets/base",
            "_view_module_version": "1.2.0",
            "_view_name": "LayoutView",
            "align_content": null,
            "align_items": null,
            "align_self": null,
            "border": null,
            "bottom": null,
            "display": null,
            "flex": null,
            "flex_flow": null,
            "grid_area": null,
            "grid_auto_columns": null,
            "grid_auto_flow": null,
            "grid_auto_rows": null,
            "grid_column": null,
            "grid_gap": null,
            "grid_row": null,
            "grid_template_areas": null,
            "grid_template_columns": null,
            "grid_template_rows": null,
            "height": null,
            "justify_content": null,
            "justify_items": null,
            "left": null,
            "margin": null,
            "max_height": null,
            "max_width": null,
            "min_height": null,
            "min_width": null,
            "object_fit": null,
            "object_position": null,
            "order": null,
            "overflow": null,
            "overflow_x": null,
            "overflow_y": null,
            "padding": null,
            "right": null,
            "top": null,
            "visibility": null,
            "width": null
          }
        },
        "126f8df7f5184d739d42eff0ed44b760": {
          "model_module": "@jupyter-widgets/base",
          "model_module_version": "1.2.0",
          "model_name": "LayoutModel",
          "state": {
            "_model_module": "@jupyter-widgets/base",
            "_model_module_version": "1.2.0",
            "_model_name": "LayoutModel",
            "_view_count": null,
            "_view_module": "@jupyter-widgets/base",
            "_view_module_version": "1.2.0",
            "_view_name": "LayoutView",
            "align_content": null,
            "align_items": null,
            "align_self": null,
            "border": null,
            "bottom": null,
            "display": null,
            "flex": null,
            "flex_flow": null,
            "grid_area": null,
            "grid_auto_columns": null,
            "grid_auto_flow": null,
            "grid_auto_rows": null,
            "grid_column": null,
            "grid_gap": null,
            "grid_row": null,
            "grid_template_areas": null,
            "grid_template_columns": null,
            "grid_template_rows": null,
            "height": null,
            "justify_content": null,
            "justify_items": null,
            "left": null,
            "margin": null,
            "max_height": null,
            "max_width": null,
            "min_height": null,
            "min_width": null,
            "object_fit": null,
            "object_position": null,
            "order": null,
            "overflow": null,
            "overflow_x": null,
            "overflow_y": null,
            "padding": null,
            "right": null,
            "top": null,
            "visibility": null,
            "width": null
          }
        },
        "135ce3605a3a44ff9aa4f77c36a23561": {
          "model_module": "@jupyter-widgets/controls",
          "model_module_version": "1.5.0",
          "model_name": "FloatProgressModel",
          "state": {
            "_dom_classes": [],
            "_model_module": "@jupyter-widgets/controls",
            "_model_module_version": "1.5.0",
            "_model_name": "FloatProgressModel",
            "_view_count": null,
            "_view_module": "@jupyter-widgets/controls",
            "_view_module_version": "1.5.0",
            "_view_name": "ProgressView",
            "bar_style": "success",
            "description": "",
            "description_tooltip": null,
            "layout": "IPY_MODEL_49b78b5f91504d3ba7c6a6deec81f659",
            "max": 1,
            "min": 0,
            "orientation": "horizontal",
            "style": "IPY_MODEL_972f6d622d7f4892b0e51b5fddc38ff5",
            "value": 1
          }
        },
        "1e59d277a2674af1b5ebb0c743623476": {
          "model_module": "@jupyter-widgets/controls",
          "model_module_version": "1.5.0",
          "model_name": "DescriptionStyleModel",
          "state": {
            "_model_module": "@jupyter-widgets/controls",
            "_model_module_version": "1.5.0",
            "_model_name": "DescriptionStyleModel",
            "_view_count": null,
            "_view_module": "@jupyter-widgets/base",
            "_view_module_version": "1.2.0",
            "_view_name": "StyleView",
            "description_width": ""
          }
        },
        "211a4cb17cbc403fbe425b5ed4e64a11": {
          "model_module": "@jupyter-widgets/controls",
          "model_module_version": "1.5.0",
          "model_name": "ProgressStyleModel",
          "state": {
            "_model_module": "@jupyter-widgets/controls",
            "_model_module_version": "1.5.0",
            "_model_name": "ProgressStyleModel",
            "_view_count": null,
            "_view_module": "@jupyter-widgets/base",
            "_view_module_version": "1.2.0",
            "_view_name": "StyleView",
            "bar_color": null,
            "description_width": ""
          }
        },
        "220b796562304bf3b36684e404cf792b": {
          "model_module": "@jupyter-widgets/controls",
          "model_module_version": "1.5.0",
          "model_name": "HBoxModel",
          "state": {
            "_dom_classes": [],
            "_model_module": "@jupyter-widgets/controls",
            "_model_module_version": "1.5.0",
            "_model_name": "HBoxModel",
            "_view_count": null,
            "_view_module": "@jupyter-widgets/controls",
            "_view_module_version": "1.5.0",
            "_view_name": "HBoxView",
            "box_style": "",
            "children": [
              "IPY_MODEL_4a082d2d18284cff8fe014cecfe076f5",
              "IPY_MODEL_b68ca7f589284d76a6a9eb0c6b6aa0a2",
              "IPY_MODEL_49f77b87d79c4c05839f66f952fbc857"
            ],
            "layout": "IPY_MODEL_da856535608a491d9188a8f111102e93"
          }
        },
        "256f0d883c26458c8b493a7992b35733": {
          "model_module": "@jupyter-widgets/controls",
          "model_module_version": "1.5.0",
          "model_name": "DescriptionStyleModel",
          "state": {
            "_model_module": "@jupyter-widgets/controls",
            "_model_module_version": "1.5.0",
            "_model_name": "DescriptionStyleModel",
            "_view_count": null,
            "_view_module": "@jupyter-widgets/base",
            "_view_module_version": "1.2.0",
            "_view_name": "StyleView",
            "description_width": ""
          }
        },
        "26dc5c1f8b7343c8a1343e8feb26b296": {
          "model_module": "@jupyter-widgets/controls",
          "model_module_version": "1.5.0",
          "model_name": "HBoxModel",
          "state": {
            "_dom_classes": [],
            "_model_module": "@jupyter-widgets/controls",
            "_model_module_version": "1.5.0",
            "_model_name": "HBoxModel",
            "_view_count": null,
            "_view_module": "@jupyter-widgets/controls",
            "_view_module_version": "1.5.0",
            "_view_name": "HBoxView",
            "box_style": "",
            "children": [
              "IPY_MODEL_05b4971fd67e4f50892244f085caba24",
              "IPY_MODEL_135ce3605a3a44ff9aa4f77c36a23561",
              "IPY_MODEL_9e76272d49eb494db63ab2d8d3cd40df"
            ],
            "layout": "IPY_MODEL_a7aa54606e2c40098639e3754346f99f"
          }
        },
        "2c18f2a69e1c4264bc58202b9c65f361": {
          "model_module": "@jupyter-widgets/base",
          "model_module_version": "1.2.0",
          "model_name": "LayoutModel",
          "state": {
            "_model_module": "@jupyter-widgets/base",
            "_model_module_version": "1.2.0",
            "_model_name": "LayoutModel",
            "_view_count": null,
            "_view_module": "@jupyter-widgets/base",
            "_view_module_version": "1.2.0",
            "_view_name": "LayoutView",
            "align_content": null,
            "align_items": null,
            "align_self": null,
            "border": null,
            "bottom": null,
            "display": null,
            "flex": null,
            "flex_flow": null,
            "grid_area": null,
            "grid_auto_columns": null,
            "grid_auto_flow": null,
            "grid_auto_rows": null,
            "grid_column": null,
            "grid_gap": null,
            "grid_row": null,
            "grid_template_areas": null,
            "grid_template_columns": null,
            "grid_template_rows": null,
            "height": null,
            "justify_content": null,
            "justify_items": null,
            "left": null,
            "margin": null,
            "max_height": null,
            "max_width": null,
            "min_height": null,
            "min_width": null,
            "object_fit": null,
            "object_position": null,
            "order": null,
            "overflow": null,
            "overflow_x": null,
            "overflow_y": null,
            "padding": null,
            "right": null,
            "top": null,
            "visibility": null,
            "width": null
          }
        },
        "34a8f47f78c34075b78c09dc2bd77566": {
          "model_module": "@jupyter-widgets/controls",
          "model_module_version": "1.5.0",
          "model_name": "FloatProgressModel",
          "state": {
            "_dom_classes": [],
            "_model_module": "@jupyter-widgets/controls",
            "_model_module_version": "1.5.0",
            "_model_name": "FloatProgressModel",
            "_view_count": null,
            "_view_module": "@jupyter-widgets/controls",
            "_view_module_version": "1.5.0",
            "_view_name": "ProgressView",
            "bar_style": "success",
            "description": "",
            "description_tooltip": null,
            "layout": "IPY_MODEL_bf5477558de24e7892f45a53458783aa",
            "max": 5,
            "min": 0,
            "orientation": "horizontal",
            "style": "IPY_MODEL_4a5e96dd7b924373b0b606b87b1af42b",
            "value": 5
          }
        },
        "3c8d218c95884ec0973ba2403a13a6fc": {
          "model_module": "@jupyter-widgets/controls",
          "model_module_version": "1.5.0",
          "model_name": "DescriptionStyleModel",
          "state": {
            "_model_module": "@jupyter-widgets/controls",
            "_model_module_version": "1.5.0",
            "_model_name": "DescriptionStyleModel",
            "_view_count": null,
            "_view_module": "@jupyter-widgets/base",
            "_view_module_version": "1.2.0",
            "_view_name": "StyleView",
            "description_width": ""
          }
        },
        "49b78b5f91504d3ba7c6a6deec81f659": {
          "model_module": "@jupyter-widgets/base",
          "model_module_version": "1.2.0",
          "model_name": "LayoutModel",
          "state": {
            "_model_module": "@jupyter-widgets/base",
            "_model_module_version": "1.2.0",
            "_model_name": "LayoutModel",
            "_view_count": null,
            "_view_module": "@jupyter-widgets/base",
            "_view_module_version": "1.2.0",
            "_view_name": "LayoutView",
            "align_content": null,
            "align_items": null,
            "align_self": null,
            "border": null,
            "bottom": null,
            "display": null,
            "flex": null,
            "flex_flow": null,
            "grid_area": null,
            "grid_auto_columns": null,
            "grid_auto_flow": null,
            "grid_auto_rows": null,
            "grid_column": null,
            "grid_gap": null,
            "grid_row": null,
            "grid_template_areas": null,
            "grid_template_columns": null,
            "grid_template_rows": null,
            "height": null,
            "justify_content": null,
            "justify_items": null,
            "left": null,
            "margin": null,
            "max_height": null,
            "max_width": null,
            "min_height": null,
            "min_width": null,
            "object_fit": null,
            "object_position": null,
            "order": null,
            "overflow": null,
            "overflow_x": null,
            "overflow_y": null,
            "padding": null,
            "right": null,
            "top": null,
            "visibility": null,
            "width": null
          }
        },
        "49f77b87d79c4c05839f66f952fbc857": {
          "model_module": "@jupyter-widgets/controls",
          "model_module_version": "1.5.0",
          "model_name": "HTMLModel",
          "state": {
            "_dom_classes": [],
            "_model_module": "@jupyter-widgets/controls",
            "_model_module_version": "1.5.0",
            "_model_name": "HTMLModel",
            "_view_count": null,
            "_view_module": "@jupyter-widgets/controls",
            "_view_module_version": "1.5.0",
            "_view_name": "HTMLView",
            "description": "",
            "description_tooltip": null,
            "layout": "IPY_MODEL_e5a11eff26bb486f8046e03347f7ff3d",
            "placeholder": "​",
            "style": "IPY_MODEL_1e59d277a2674af1b5ebb0c743623476",
            "value": " 1/1 [00:18&lt;00:00, 18.99s/it]"
          }
        },
        "4a082d2d18284cff8fe014cecfe076f5": {
          "model_module": "@jupyter-widgets/controls",
          "model_module_version": "1.5.0",
          "model_name": "HTMLModel",
          "state": {
            "_dom_classes": [],
            "_model_module": "@jupyter-widgets/controls",
            "_model_module_version": "1.5.0",
            "_model_name": "HTMLModel",
            "_view_count": null,
            "_view_module": "@jupyter-widgets/controls",
            "_view_module_version": "1.5.0",
            "_view_name": "HTMLView",
            "description": "",
            "description_tooltip": null,
            "layout": "IPY_MODEL_cfd25aac5cf6473f90dc165f7f47d902",
            "placeholder": "​",
            "style": "IPY_MODEL_70c8ba6be4484e768f0aae97e5b0f739",
            "value": "Generate report structure: 100%"
          }
        },
        "4a5e96dd7b924373b0b606b87b1af42b": {
          "model_module": "@jupyter-widgets/controls",
          "model_module_version": "1.5.0",
          "model_name": "ProgressStyleModel",
          "state": {
            "_model_module": "@jupyter-widgets/controls",
            "_model_module_version": "1.5.0",
            "_model_name": "ProgressStyleModel",
            "_view_count": null,
            "_view_module": "@jupyter-widgets/base",
            "_view_module_version": "1.2.0",
            "_view_name": "StyleView",
            "bar_color": null,
            "description_width": ""
          }
        },
        "4a71f7d31442487db2ba13ddd9a2e84b": {
          "model_module": "@jupyter-widgets/base",
          "model_module_version": "1.2.0",
          "model_name": "LayoutModel",
          "state": {
            "_model_module": "@jupyter-widgets/base",
            "_model_module_version": "1.2.0",
            "_model_name": "LayoutModel",
            "_view_count": null,
            "_view_module": "@jupyter-widgets/base",
            "_view_module_version": "1.2.0",
            "_view_name": "LayoutView",
            "align_content": null,
            "align_items": null,
            "align_self": null,
            "border": null,
            "bottom": null,
            "display": null,
            "flex": null,
            "flex_flow": null,
            "grid_area": null,
            "grid_auto_columns": null,
            "grid_auto_flow": null,
            "grid_auto_rows": null,
            "grid_column": null,
            "grid_gap": null,
            "grid_row": null,
            "grid_template_areas": null,
            "grid_template_columns": null,
            "grid_template_rows": null,
            "height": null,
            "justify_content": null,
            "justify_items": null,
            "left": null,
            "margin": null,
            "max_height": null,
            "max_width": null,
            "min_height": null,
            "min_width": null,
            "object_fit": null,
            "object_position": null,
            "order": null,
            "overflow": null,
            "overflow_x": null,
            "overflow_y": null,
            "padding": null,
            "right": null,
            "top": null,
            "visibility": null,
            "width": null
          }
        },
        "52eb9462353c465b8a1d16159dcf3f9d": {
          "model_module": "@jupyter-widgets/base",
          "model_module_version": "1.2.0",
          "model_name": "LayoutModel",
          "state": {
            "_model_module": "@jupyter-widgets/base",
            "_model_module_version": "1.2.0",
            "_model_name": "LayoutModel",
            "_view_count": null,
            "_view_module": "@jupyter-widgets/base",
            "_view_module_version": "1.2.0",
            "_view_name": "LayoutView",
            "align_content": null,
            "align_items": null,
            "align_self": null,
            "border": null,
            "bottom": null,
            "display": null,
            "flex": null,
            "flex_flow": null,
            "grid_area": null,
            "grid_auto_columns": null,
            "grid_auto_flow": null,
            "grid_auto_rows": null,
            "grid_column": null,
            "grid_gap": null,
            "grid_row": null,
            "grid_template_areas": null,
            "grid_template_columns": null,
            "grid_template_rows": null,
            "height": null,
            "justify_content": null,
            "justify_items": null,
            "left": null,
            "margin": null,
            "max_height": null,
            "max_width": null,
            "min_height": null,
            "min_width": null,
            "object_fit": null,
            "object_position": null,
            "order": null,
            "overflow": null,
            "overflow_x": null,
            "overflow_y": null,
            "padding": null,
            "right": null,
            "top": null,
            "visibility": null,
            "width": null
          }
        },
        "6c9bb40bc74d4e30a5ea7337b2950686": {
          "model_module": "@jupyter-widgets/controls",
          "model_module_version": "1.5.0",
          "model_name": "HTMLModel",
          "state": {
            "_dom_classes": [],
            "_model_module": "@jupyter-widgets/controls",
            "_model_module_version": "1.5.0",
            "_model_name": "HTMLModel",
            "_view_count": null,
            "_view_module": "@jupyter-widgets/controls",
            "_view_module_version": "1.5.0",
            "_view_name": "HTMLView",
            "description": "",
            "description_tooltip": null,
            "layout": "IPY_MODEL_94b908d80e0448a2a2421cbd82943413",
            "placeholder": "​",
            "style": "IPY_MODEL_3c8d218c95884ec0973ba2403a13a6fc",
            "value": "Export report to file: 100%"
          }
        },
        "70c8ba6be4484e768f0aae97e5b0f739": {
          "model_module": "@jupyter-widgets/controls",
          "model_module_version": "1.5.0",
          "model_name": "DescriptionStyleModel",
          "state": {
            "_model_module": "@jupyter-widgets/controls",
            "_model_module_version": "1.5.0",
            "_model_name": "DescriptionStyleModel",
            "_view_count": null,
            "_view_module": "@jupyter-widgets/base",
            "_view_module_version": "1.2.0",
            "_view_name": "StyleView",
            "description_width": ""
          }
        },
        "7e909c4d6d1d40ea81c98552b57eaea1": {
          "model_module": "@jupyter-widgets/base",
          "model_module_version": "1.2.0",
          "model_name": "LayoutModel",
          "state": {
            "_model_module": "@jupyter-widgets/base",
            "_model_module_version": "1.2.0",
            "_model_name": "LayoutModel",
            "_view_count": null,
            "_view_module": "@jupyter-widgets/base",
            "_view_module_version": "1.2.0",
            "_view_name": "LayoutView",
            "align_content": null,
            "align_items": null,
            "align_self": null,
            "border": null,
            "bottom": null,
            "display": null,
            "flex": null,
            "flex_flow": null,
            "grid_area": null,
            "grid_auto_columns": null,
            "grid_auto_flow": null,
            "grid_auto_rows": null,
            "grid_column": null,
            "grid_gap": null,
            "grid_row": null,
            "grid_template_areas": null,
            "grid_template_columns": null,
            "grid_template_rows": null,
            "height": null,
            "justify_content": null,
            "justify_items": null,
            "left": null,
            "margin": null,
            "max_height": null,
            "max_width": null,
            "min_height": null,
            "min_width": null,
            "object_fit": null,
            "object_position": null,
            "order": null,
            "overflow": null,
            "overflow_x": null,
            "overflow_y": null,
            "padding": null,
            "right": null,
            "top": null,
            "visibility": null,
            "width": null
          }
        },
        "8e773d6b97594f07846cbe86fe7ec5b0": {
          "model_module": "@jupyter-widgets/controls",
          "model_module_version": "1.5.0",
          "model_name": "DescriptionStyleModel",
          "state": {
            "_model_module": "@jupyter-widgets/controls",
            "_model_module_version": "1.5.0",
            "_model_name": "DescriptionStyleModel",
            "_view_count": null,
            "_view_module": "@jupyter-widgets/base",
            "_view_module_version": "1.2.0",
            "_view_name": "StyleView",
            "description_width": ""
          }
        },
        "94b908d80e0448a2a2421cbd82943413": {
          "model_module": "@jupyter-widgets/base",
          "model_module_version": "1.2.0",
          "model_name": "LayoutModel",
          "state": {
            "_model_module": "@jupyter-widgets/base",
            "_model_module_version": "1.2.0",
            "_model_name": "LayoutModel",
            "_view_count": null,
            "_view_module": "@jupyter-widgets/base",
            "_view_module_version": "1.2.0",
            "_view_name": "LayoutView",
            "align_content": null,
            "align_items": null,
            "align_self": null,
            "border": null,
            "bottom": null,
            "display": null,
            "flex": null,
            "flex_flow": null,
            "grid_area": null,
            "grid_auto_columns": null,
            "grid_auto_flow": null,
            "grid_auto_rows": null,
            "grid_column": null,
            "grid_gap": null,
            "grid_row": null,
            "grid_template_areas": null,
            "grid_template_columns": null,
            "grid_template_rows": null,
            "height": null,
            "justify_content": null,
            "justify_items": null,
            "left": null,
            "margin": null,
            "max_height": null,
            "max_width": null,
            "min_height": null,
            "min_width": null,
            "object_fit": null,
            "object_position": null,
            "order": null,
            "overflow": null,
            "overflow_x": null,
            "overflow_y": null,
            "padding": null,
            "right": null,
            "top": null,
            "visibility": null,
            "width": null
          }
        },
        "972f6d622d7f4892b0e51b5fddc38ff5": {
          "model_module": "@jupyter-widgets/controls",
          "model_module_version": "1.5.0",
          "model_name": "ProgressStyleModel",
          "state": {
            "_model_module": "@jupyter-widgets/controls",
            "_model_module_version": "1.5.0",
            "_model_name": "ProgressStyleModel",
            "_view_count": null,
            "_view_module": "@jupyter-widgets/base",
            "_view_module_version": "1.2.0",
            "_view_name": "StyleView",
            "bar_color": null,
            "description_width": ""
          }
        },
        "9a447afa56c7448fb556db6a5629851a": {
          "model_module": "@jupyter-widgets/base",
          "model_module_version": "1.2.0",
          "model_name": "LayoutModel",
          "state": {
            "_model_module": "@jupyter-widgets/base",
            "_model_module_version": "1.2.0",
            "_model_name": "LayoutModel",
            "_view_count": null,
            "_view_module": "@jupyter-widgets/base",
            "_view_module_version": "1.2.0",
            "_view_name": "LayoutView",
            "align_content": null,
            "align_items": null,
            "align_self": null,
            "border": null,
            "bottom": null,
            "display": null,
            "flex": null,
            "flex_flow": null,
            "grid_area": null,
            "grid_auto_columns": null,
            "grid_auto_flow": null,
            "grid_auto_rows": null,
            "grid_column": null,
            "grid_gap": null,
            "grid_row": null,
            "grid_template_areas": null,
            "grid_template_columns": null,
            "grid_template_rows": null,
            "height": null,
            "justify_content": null,
            "justify_items": null,
            "left": null,
            "margin": null,
            "max_height": null,
            "max_width": null,
            "min_height": null,
            "min_width": null,
            "object_fit": null,
            "object_position": null,
            "order": null,
            "overflow": null,
            "overflow_x": null,
            "overflow_y": null,
            "padding": null,
            "right": null,
            "top": null,
            "visibility": null,
            "width": null
          }
        },
        "9e76272d49eb494db63ab2d8d3cd40df": {
          "model_module": "@jupyter-widgets/controls",
          "model_module_version": "1.5.0",
          "model_name": "HTMLModel",
          "state": {
            "_dom_classes": [],
            "_model_module": "@jupyter-widgets/controls",
            "_model_module_version": "1.5.0",
            "_model_name": "HTMLModel",
            "_view_count": null,
            "_view_module": "@jupyter-widgets/controls",
            "_view_module_version": "1.5.0",
            "_view_name": "HTMLView",
            "description": "",
            "description_tooltip": null,
            "layout": "IPY_MODEL_7e909c4d6d1d40ea81c98552b57eaea1",
            "placeholder": "​",
            "style": "IPY_MODEL_8e773d6b97594f07846cbe86fe7ec5b0",
            "value": " 1/1 [00:01&lt;00:00,  1.42s/it]"
          }
        },
        "a39c8f7fcf004fa7b001e6baa535e63d": {
          "model_module": "@jupyter-widgets/controls",
          "model_module_version": "1.5.0",
          "model_name": "HBoxModel",
          "state": {
            "_dom_classes": [],
            "_model_module": "@jupyter-widgets/controls",
            "_model_module_version": "1.5.0",
            "_model_name": "HBoxModel",
            "_view_count": null,
            "_view_module": "@jupyter-widgets/controls",
            "_view_module_version": "1.5.0",
            "_view_name": "HBoxView",
            "box_style": "",
            "children": [
              "IPY_MODEL_d38f332905a34f8490d93215ba9a0049",
              "IPY_MODEL_34a8f47f78c34075b78c09dc2bd77566",
              "IPY_MODEL_f3752a88d0ab4708a8bcba8ffa0092f2"
            ],
            "layout": "IPY_MODEL_2c18f2a69e1c4264bc58202b9c65f361"
          }
        },
        "a7aa54606e2c40098639e3754346f99f": {
          "model_module": "@jupyter-widgets/base",
          "model_module_version": "1.2.0",
          "model_name": "LayoutModel",
          "state": {
            "_model_module": "@jupyter-widgets/base",
            "_model_module_version": "1.2.0",
            "_model_name": "LayoutModel",
            "_view_count": null,
            "_view_module": "@jupyter-widgets/base",
            "_view_module_version": "1.2.0",
            "_view_name": "LayoutView",
            "align_content": null,
            "align_items": null,
            "align_self": null,
            "border": null,
            "bottom": null,
            "display": null,
            "flex": null,
            "flex_flow": null,
            "grid_area": null,
            "grid_auto_columns": null,
            "grid_auto_flow": null,
            "grid_auto_rows": null,
            "grid_column": null,
            "grid_gap": null,
            "grid_row": null,
            "grid_template_areas": null,
            "grid_template_columns": null,
            "grid_template_rows": null,
            "height": null,
            "justify_content": null,
            "justify_items": null,
            "left": null,
            "margin": null,
            "max_height": null,
            "max_width": null,
            "min_height": null,
            "min_width": null,
            "object_fit": null,
            "object_position": null,
            "order": null,
            "overflow": null,
            "overflow_x": null,
            "overflow_y": null,
            "padding": null,
            "right": null,
            "top": null,
            "visibility": null,
            "width": null
          }
        },
        "ad5bfafcbf814c258f77c4065a7735e7": {
          "model_module": "@jupyter-widgets/base",
          "model_module_version": "1.2.0",
          "model_name": "LayoutModel",
          "state": {
            "_model_module": "@jupyter-widgets/base",
            "_model_module_version": "1.2.0",
            "_model_name": "LayoutModel",
            "_view_count": null,
            "_view_module": "@jupyter-widgets/base",
            "_view_module_version": "1.2.0",
            "_view_name": "LayoutView",
            "align_content": null,
            "align_items": null,
            "align_self": null,
            "border": null,
            "bottom": null,
            "display": null,
            "flex": null,
            "flex_flow": null,
            "grid_area": null,
            "grid_auto_columns": null,
            "grid_auto_flow": null,
            "grid_auto_rows": null,
            "grid_column": null,
            "grid_gap": null,
            "grid_row": null,
            "grid_template_areas": null,
            "grid_template_columns": null,
            "grid_template_rows": null,
            "height": null,
            "justify_content": null,
            "justify_items": null,
            "left": null,
            "margin": null,
            "max_height": null,
            "max_width": null,
            "min_height": null,
            "min_width": null,
            "object_fit": null,
            "object_position": null,
            "order": null,
            "overflow": null,
            "overflow_x": null,
            "overflow_y": null,
            "padding": null,
            "right": null,
            "top": null,
            "visibility": null,
            "width": null
          }
        },
        "b68ca7f589284d76a6a9eb0c6b6aa0a2": {
          "model_module": "@jupyter-widgets/controls",
          "model_module_version": "1.5.0",
          "model_name": "FloatProgressModel",
          "state": {
            "_dom_classes": [],
            "_model_module": "@jupyter-widgets/controls",
            "_model_module_version": "1.5.0",
            "_model_name": "FloatProgressModel",
            "_view_count": null,
            "_view_module": "@jupyter-widgets/controls",
            "_view_module_version": "1.5.0",
            "_view_name": "ProgressView",
            "bar_style": "success",
            "description": "",
            "description_tooltip": null,
            "layout": "IPY_MODEL_ea8d850019284d038f9836791f78ce3d",
            "max": 1,
            "min": 0,
            "orientation": "horizontal",
            "style": "IPY_MODEL_211a4cb17cbc403fbe425b5ed4e64a11",
            "value": 1
          }
        },
        "b95454946cd348a78b9ed06fd17224ee": {
          "model_module": "@jupyter-widgets/controls",
          "model_module_version": "1.5.0",
          "model_name": "DescriptionStyleModel",
          "state": {
            "_model_module": "@jupyter-widgets/controls",
            "_model_module_version": "1.5.0",
            "_model_name": "DescriptionStyleModel",
            "_view_count": null,
            "_view_module": "@jupyter-widgets/base",
            "_view_module_version": "1.2.0",
            "_view_name": "StyleView",
            "description_width": ""
          }
        },
        "ba52ec492b484d09a561a9ba09520c41": {
          "model_module": "@jupyter-widgets/controls",
          "model_module_version": "1.5.0",
          "model_name": "ProgressStyleModel",
          "state": {
            "_model_module": "@jupyter-widgets/controls",
            "_model_module_version": "1.5.0",
            "_model_name": "ProgressStyleModel",
            "_view_count": null,
            "_view_module": "@jupyter-widgets/base",
            "_view_module_version": "1.2.0",
            "_view_name": "StyleView",
            "bar_color": null,
            "description_width": ""
          }
        },
        "bc34169ea7f04d7fbc749ae136366dbc": {
          "model_module": "@jupyter-widgets/controls",
          "model_module_version": "1.5.0",
          "model_name": "HBoxModel",
          "state": {
            "_dom_classes": [],
            "_model_module": "@jupyter-widgets/controls",
            "_model_module_version": "1.5.0",
            "_model_name": "HBoxModel",
            "_view_count": null,
            "_view_module": "@jupyter-widgets/controls",
            "_view_module_version": "1.5.0",
            "_view_name": "HBoxView",
            "box_style": "",
            "children": [
              "IPY_MODEL_6c9bb40bc74d4e30a5ea7337b2950686",
              "IPY_MODEL_c173c4055ea849aeb9c0be000332f00f",
              "IPY_MODEL_d6f7c7c67d274f33bd374b17eb33c294"
            ],
            "layout": "IPY_MODEL_126f8df7f5184d739d42eff0ed44b760"
          }
        },
        "bf5477558de24e7892f45a53458783aa": {
          "model_module": "@jupyter-widgets/base",
          "model_module_version": "1.2.0",
          "model_name": "LayoutModel",
          "state": {
            "_model_module": "@jupyter-widgets/base",
            "_model_module_version": "1.2.0",
            "_model_name": "LayoutModel",
            "_view_count": null,
            "_view_module": "@jupyter-widgets/base",
            "_view_module_version": "1.2.0",
            "_view_name": "LayoutView",
            "align_content": null,
            "align_items": null,
            "align_self": null,
            "border": null,
            "bottom": null,
            "display": null,
            "flex": null,
            "flex_flow": null,
            "grid_area": null,
            "grid_auto_columns": null,
            "grid_auto_flow": null,
            "grid_auto_rows": null,
            "grid_column": null,
            "grid_gap": null,
            "grid_row": null,
            "grid_template_areas": null,
            "grid_template_columns": null,
            "grid_template_rows": null,
            "height": null,
            "justify_content": null,
            "justify_items": null,
            "left": null,
            "margin": null,
            "max_height": null,
            "max_width": null,
            "min_height": null,
            "min_width": null,
            "object_fit": null,
            "object_position": null,
            "order": null,
            "overflow": null,
            "overflow_x": null,
            "overflow_y": null,
            "padding": null,
            "right": null,
            "top": null,
            "visibility": null,
            "width": null
          }
        },
        "c173c4055ea849aeb9c0be000332f00f": {
          "model_module": "@jupyter-widgets/controls",
          "model_module_version": "1.5.0",
          "model_name": "FloatProgressModel",
          "state": {
            "_dom_classes": [],
            "_model_module": "@jupyter-widgets/controls",
            "_model_module_version": "1.5.0",
            "_model_name": "FloatProgressModel",
            "_view_count": null,
            "_view_module": "@jupyter-widgets/controls",
            "_view_module_version": "1.5.0",
            "_view_name": "ProgressView",
            "bar_style": "success",
            "description": "",
            "description_tooltip": null,
            "layout": "IPY_MODEL_4a71f7d31442487db2ba13ddd9a2e84b",
            "max": 1,
            "min": 0,
            "orientation": "horizontal",
            "style": "IPY_MODEL_ba52ec492b484d09a561a9ba09520c41",
            "value": 1
          }
        },
        "cfd25aac5cf6473f90dc165f7f47d902": {
          "model_module": "@jupyter-widgets/base",
          "model_module_version": "1.2.0",
          "model_name": "LayoutModel",
          "state": {
            "_model_module": "@jupyter-widgets/base",
            "_model_module_version": "1.2.0",
            "_model_name": "LayoutModel",
            "_view_count": null,
            "_view_module": "@jupyter-widgets/base",
            "_view_module_version": "1.2.0",
            "_view_name": "LayoutView",
            "align_content": null,
            "align_items": null,
            "align_self": null,
            "border": null,
            "bottom": null,
            "display": null,
            "flex": null,
            "flex_flow": null,
            "grid_area": null,
            "grid_auto_columns": null,
            "grid_auto_flow": null,
            "grid_auto_rows": null,
            "grid_column": null,
            "grid_gap": null,
            "grid_row": null,
            "grid_template_areas": null,
            "grid_template_columns": null,
            "grid_template_rows": null,
            "height": null,
            "justify_content": null,
            "justify_items": null,
            "left": null,
            "margin": null,
            "max_height": null,
            "max_width": null,
            "min_height": null,
            "min_width": null,
            "object_fit": null,
            "object_position": null,
            "order": null,
            "overflow": null,
            "overflow_x": null,
            "overflow_y": null,
            "padding": null,
            "right": null,
            "top": null,
            "visibility": null,
            "width": null
          }
        },
        "d38f332905a34f8490d93215ba9a0049": {
          "model_module": "@jupyter-widgets/controls",
          "model_module_version": "1.5.0",
          "model_name": "HTMLModel",
          "state": {
            "_dom_classes": [],
            "_model_module": "@jupyter-widgets/controls",
            "_model_module_version": "1.5.0",
            "_model_name": "HTMLModel",
            "_view_count": null,
            "_view_module": "@jupyter-widgets/controls",
            "_view_module_version": "1.5.0",
            "_view_name": "HTMLView",
            "description": "",
            "description_tooltip": null,
            "layout": "IPY_MODEL_52eb9462353c465b8a1d16159dcf3f9d",
            "placeholder": "​",
            "style": "IPY_MODEL_b95454946cd348a78b9ed06fd17224ee",
            "value": "Summarize dataset: 100%"
          }
        },
        "d6f7c7c67d274f33bd374b17eb33c294": {
          "model_module": "@jupyter-widgets/controls",
          "model_module_version": "1.5.0",
          "model_name": "HTMLModel",
          "state": {
            "_dom_classes": [],
            "_model_module": "@jupyter-widgets/controls",
            "_model_module_version": "1.5.0",
            "_model_name": "HTMLModel",
            "_view_count": null,
            "_view_module": "@jupyter-widgets/controls",
            "_view_module_version": "1.5.0",
            "_view_name": "HTMLView",
            "description": "",
            "description_tooltip": null,
            "layout": "IPY_MODEL_9a447afa56c7448fb556db6a5629851a",
            "placeholder": "​",
            "style": "IPY_MODEL_f5d1beae41da40b7b96cfbe36f2f270d",
            "value": " 1/1 [00:00&lt;00:00, 39.93it/s]"
          }
        },
        "da856535608a491d9188a8f111102e93": {
          "model_module": "@jupyter-widgets/base",
          "model_module_version": "1.2.0",
          "model_name": "LayoutModel",
          "state": {
            "_model_module": "@jupyter-widgets/base",
            "_model_module_version": "1.2.0",
            "_model_name": "LayoutModel",
            "_view_count": null,
            "_view_module": "@jupyter-widgets/base",
            "_view_module_version": "1.2.0",
            "_view_name": "LayoutView",
            "align_content": null,
            "align_items": null,
            "align_self": null,
            "border": null,
            "bottom": null,
            "display": null,
            "flex": null,
            "flex_flow": null,
            "grid_area": null,
            "grid_auto_columns": null,
            "grid_auto_flow": null,
            "grid_auto_rows": null,
            "grid_column": null,
            "grid_gap": null,
            "grid_row": null,
            "grid_template_areas": null,
            "grid_template_columns": null,
            "grid_template_rows": null,
            "height": null,
            "justify_content": null,
            "justify_items": null,
            "left": null,
            "margin": null,
            "max_height": null,
            "max_width": null,
            "min_height": null,
            "min_width": null,
            "object_fit": null,
            "object_position": null,
            "order": null,
            "overflow": null,
            "overflow_x": null,
            "overflow_y": null,
            "padding": null,
            "right": null,
            "top": null,
            "visibility": null,
            "width": null
          }
        },
        "e5a11eff26bb486f8046e03347f7ff3d": {
          "model_module": "@jupyter-widgets/base",
          "model_module_version": "1.2.0",
          "model_name": "LayoutModel",
          "state": {
            "_model_module": "@jupyter-widgets/base",
            "_model_module_version": "1.2.0",
            "_model_name": "LayoutModel",
            "_view_count": null,
            "_view_module": "@jupyter-widgets/base",
            "_view_module_version": "1.2.0",
            "_view_name": "LayoutView",
            "align_content": null,
            "align_items": null,
            "align_self": null,
            "border": null,
            "bottom": null,
            "display": null,
            "flex": null,
            "flex_flow": null,
            "grid_area": null,
            "grid_auto_columns": null,
            "grid_auto_flow": null,
            "grid_auto_rows": null,
            "grid_column": null,
            "grid_gap": null,
            "grid_row": null,
            "grid_template_areas": null,
            "grid_template_columns": null,
            "grid_template_rows": null,
            "height": null,
            "justify_content": null,
            "justify_items": null,
            "left": null,
            "margin": null,
            "max_height": null,
            "max_width": null,
            "min_height": null,
            "min_width": null,
            "object_fit": null,
            "object_position": null,
            "order": null,
            "overflow": null,
            "overflow_x": null,
            "overflow_y": null,
            "padding": null,
            "right": null,
            "top": null,
            "visibility": null,
            "width": null
          }
        },
        "ea8d850019284d038f9836791f78ce3d": {
          "model_module": "@jupyter-widgets/base",
          "model_module_version": "1.2.0",
          "model_name": "LayoutModel",
          "state": {
            "_model_module": "@jupyter-widgets/base",
            "_model_module_version": "1.2.0",
            "_model_name": "LayoutModel",
            "_view_count": null,
            "_view_module": "@jupyter-widgets/base",
            "_view_module_version": "1.2.0",
            "_view_name": "LayoutView",
            "align_content": null,
            "align_items": null,
            "align_self": null,
            "border": null,
            "bottom": null,
            "display": null,
            "flex": null,
            "flex_flow": null,
            "grid_area": null,
            "grid_auto_columns": null,
            "grid_auto_flow": null,
            "grid_auto_rows": null,
            "grid_column": null,
            "grid_gap": null,
            "grid_row": null,
            "grid_template_areas": null,
            "grid_template_columns": null,
            "grid_template_rows": null,
            "height": null,
            "justify_content": null,
            "justify_items": null,
            "left": null,
            "margin": null,
            "max_height": null,
            "max_width": null,
            "min_height": null,
            "min_width": null,
            "object_fit": null,
            "object_position": null,
            "order": null,
            "overflow": null,
            "overflow_x": null,
            "overflow_y": null,
            "padding": null,
            "right": null,
            "top": null,
            "visibility": null,
            "width": null
          }
        },
        "f3752a88d0ab4708a8bcba8ffa0092f2": {
          "model_module": "@jupyter-widgets/controls",
          "model_module_version": "1.5.0",
          "model_name": "HTMLModel",
          "state": {
            "_dom_classes": [],
            "_model_module": "@jupyter-widgets/controls",
            "_model_module_version": "1.5.0",
            "_model_name": "HTMLModel",
            "_view_count": null,
            "_view_module": "@jupyter-widgets/controls",
            "_view_module_version": "1.5.0",
            "_view_name": "HTMLView",
            "description": "",
            "description_tooltip": null,
            "layout": "IPY_MODEL_ad5bfafcbf814c258f77c4065a7735e7",
            "placeholder": "​",
            "style": "IPY_MODEL_0a5cd38591514c3a8407ea9d467ad3e2",
            "value": " 42/42 [00:18&lt;00:00,  1.45it/s, Completed]"
          }
        },
        "f5d1beae41da40b7b96cfbe36f2f270d": {
          "model_module": "@jupyter-widgets/controls",
          "model_module_version": "1.5.0",
          "model_name": "DescriptionStyleModel",
          "state": {
            "_model_module": "@jupyter-widgets/controls",
            "_model_module_version": "1.5.0",
            "_model_name": "DescriptionStyleModel",
            "_view_count": null,
            "_view_module": "@jupyter-widgets/base",
            "_view_module_version": "1.2.0",
            "_view_name": "StyleView",
            "description_width": ""
          }
        }
      }
    }
  },
  "nbformat": 4,
  "nbformat_minor": 5
}
